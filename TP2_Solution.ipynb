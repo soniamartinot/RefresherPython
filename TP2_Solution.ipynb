{
 "cells": [
  {
   "cell_type": "markdown",
   "id": "980ed9fd",
   "metadata": {},
   "source": [
    "# TP2 - Functions and algorithms\n",
    "\n",
    "## I. Functions\n",
    "\n",
    "\n",
    "#### Exercise 1"
   ]
  },
  {
   "cell_type": "code",
   "execution_count": 3,
   "id": "d5eed044-ec1c-4835-bc1f-1630c983e814",
   "metadata": {},
   "outputs": [
    {
     "name": "stdout",
     "output_type": "stream",
     "text": [
      "3.141592653589793\n"
     ]
    }
   ],
   "source": [
    "import math \n",
    "print(math.pi)"
   ]
  },
  {
   "cell_type": "code",
   "execution_count": 4,
   "id": "613b1bac",
   "metadata": {},
   "outputs": [
    {
     "name": "stdout",
     "output_type": "stream",
     "text": [
      "Absolute of 5 : 5\n",
      "Absolute of -6 : 6\n"
     ]
    }
   ],
   "source": [
    "def absolute(n):\n",
    "    if n < 0:\n",
    "        return -n\n",
    "    else:\n",
    "        return n\n",
    "    \n",
    "print('Absolute of {} : {}'.format(5, absolute(5)))\n",
    "print('Absolute of {} : {}'.format(-6, absolute(-6)))"
   ]
  },
  {
   "cell_type": "code",
   "execution_count": 5,
   "id": "e9b34b4f",
   "metadata": {},
   "outputs": [
    {
     "name": "stdout",
     "output_type": "stream",
     "text": [
      "Factorial of 3 : 6\n",
      "Factorial of 7 : 5040\n"
     ]
    }
   ],
   "source": [
    "def fact(n):\n",
    "    a = 1\n",
    "    for i in range(1, n + 1):\n",
    "        a *= i\n",
    "    return a\n",
    "\n",
    "print('Factorial of {} : {}'.format(3, fact(3)))\n",
    "print('Factorial of {} : {}'.format(7, fact(7)))"
   ]
  },
  {
   "cell_type": "code",
   "execution_count": 6,
   "id": "b217f833",
   "metadata": {},
   "outputs": [
    {
     "name": "stdout",
     "output_type": "stream",
     "text": [
      "Power(2, 5) : 32\n",
      "Power(3, 3) : 27\n"
     ]
    }
   ],
   "source": [
    "def power(x, n):\n",
    "    a = 1\n",
    "    for i in range(n):\n",
    "        a *= x\n",
    "    return a\n",
    "\n",
    "print('Power({}, {}) : {}'.format(2, 5, power(2, 5)))\n",
    "print('Power({}, {}) : {}'.format(3, 3, power(3, 3)))"
   ]
  },
  {
   "cell_type": "markdown",
   "id": "31e0d680",
   "metadata": {},
   "source": [
    "#### Exercise 2"
   ]
  },
  {
   "cell_type": "code",
   "execution_count": 7,
   "id": "b935fe15",
   "metadata": {},
   "outputs": [],
   "source": [
    "import math\n",
    "\n",
    "def VolumeSphere(r):\n",
    "    return 4/3 * math.pi * math.pow(r, 3)\n",
    "\n",
    "def AreaSphere(r):\n",
    "    return 4 * math.pi * math.pow(r, 2)\n",
    "\n",
    "def Float_Equality(x, y):\n",
    "    return abs(x - y) < 1e-5"
   ]
  },
  {
   "cell_type": "code",
   "execution_count": 8,
   "id": "5f4d9d8c",
   "metadata": {},
   "outputs": [],
   "source": [
    "def IsRectangle(A,B,C):\n",
    "    '''\n",
    "        A, B and C are tuple of two points\n",
    "    '''\n",
    "    # tests\n",
    "    if not (isinstance(A, tuple) and isinstance(B, tuple) and isinstance(C, tuple)):\n",
    "        print('A, B and C should be tuple')\n",
    "        return None\n",
    "    if not(len(A) == 2 and len(B) == 2 and len(C) == 2):\n",
    "        print('A, B and C should be of lenght 2')\n",
    "        return None\n",
    "    \n",
    "    xa, ya = A[0], A[1] # Could also write xa, ya = A\n",
    "    xb, yb = B[0], B[1] # Could also write xb, yb = B\n",
    "    xc, yc = C[0], C[1] # Could also write xc, yc = C\n",
    "    \n",
    "    # Distances \n",
    "    AB = math.sqrt( (xa - xb) ** 2 + (ya - yb) ** 2)\n",
    "    AC = math.sqrt( (xa - xc) ** 2 + (ya - yc) ** 2)\n",
    "    BC = math.sqrt( (xb - xc) ** 2 + (yb - yc) ** 2)\n",
    "    \n",
    "    # print(AB,AC,BC)\n",
    "\n",
    "    if Float_Equality(AB**2, (AC**2 + BC**2)):\n",
    "        print('The triangle ABC is rectangle')\n",
    "        return True\n",
    "    elif Float_Equality(AC**2, (AB**2 + BC**2)):\n",
    "        print('The triangle ABC is rectangle')\n",
    "        return True\n",
    "    elif Float_Equality(BC**2, (AB**2 + AC**2)):\n",
    "        print('The triangle ABC is rectangle')\n",
    "        return True\n",
    "    else: \n",
    "        print('The triangle is not rectangle')\n",
    "        return False"
   ]
  },
  {
   "cell_type": "code",
   "execution_count": 9,
   "id": "3eeef705",
   "metadata": {},
   "outputs": [],
   "source": [
    "def IsIsocele(A, B, C):\n",
    "    '''\n",
    "        A, B and C are tuple of two points\n",
    "    '''\n",
    "    if not (isinstance(A, tuple) and isinstance(B, tuple) and isinstance(C, tuple)):\n",
    "        print('A, B and C should be tuple')\n",
    "        return None\n",
    "    \n",
    "    if not( len(A) == 2 and len(B) == 2 and len(C) == 2):\n",
    "        print('A, B and C should be of lenght 2')\n",
    "        return None\n",
    "    \n",
    "    xa, ya = A[0], A[1]\n",
    "    xb, yb = B[0], B[1]\n",
    "    xc, yc = C[0], C[1]\n",
    "    \n",
    "    # Distances \n",
    "    AB = math.sqrt( (xa - xb) ** 2 + (ya - yb) ** 2)\n",
    "    AC = math.sqrt( (xa - xc) ** 2 + (ya - yc) ** 2)\n",
    "    BC = math.sqrt( (xb - xc) ** 2 + (yb - yc) ** 2)\n",
    "    \n",
    "    if Float_Equality(AB, AC):\n",
    "        print('The triangle ABC is isocele')\n",
    "        return True\n",
    "    elif Float_Equality(AB, BC):\n",
    "        print('The triangle ABC is isocele')\n",
    "        return True\n",
    "    elif Float_Equality(BC, AC):\n",
    "        print('The triangle ABC is isocele')\n",
    "        return True\n",
    "    else: \n",
    "        print('The triangle is not isocele')\n",
    "        return False"
   ]
  },
  {
   "cell_type": "code",
   "execution_count": 10,
   "id": "11dda117",
   "metadata": {},
   "outputs": [
    {
     "name": "stdout",
     "output_type": "stream",
     "text": [
      "The triangle ABC is rectangle\n",
      "The triangle ABC is isocele\n"
     ]
    },
    {
     "data": {
      "text/plain": [
       "5"
      ]
     },
     "execution_count": 10,
     "metadata": {},
     "output_type": "execute_result"
    }
   ],
   "source": [
    "IsRectangle((0,0), (1, 1), (0, 1)), IsIsocele((0,0), (1, 1), (0, 1))\n",
    "\n",
    "points = ((5,5), (2,2))\n",
    "A = points[0]\n",
    "xa= points[0][0]\n",
    "xa\n"
   ]
  },
  {
   "cell_type": "code",
   "execution_count": 11,
   "id": "67bba3bc",
   "metadata": {},
   "outputs": [],
   "source": [
    "def SquareCircumscribedCircle(r):\n",
    "    length = r * math.sqrt(2)\n",
    "    area = math.pow(c, 2)\n",
    "    perim = 4*length\n",
    "    return area, perim\n",
    "\n",
    "def AreAligned(A, B, C):\n",
    "    '''\n",
    "        A, B and C are tuple of two points\n",
    "    '''\n",
    "    if not (isinstance(A, tuple) and isinstance(B, tuple) and isinstance(C, tuple)):\n",
    "        print('A, B and C should be tuple')\n",
    "        return None\n",
    "    \n",
    "    if not(len(A) == 2 and len(B) == 2 and len(C) == 2):\n",
    "        print('A, B and C should be of lenght 2')\n",
    "        return None\n",
    "    \n",
    "    xa, ya = A[0], A[1]\n",
    "    xb, yb = B[0], B[1]\n",
    "    xc, yc = C[0], C[1]\n",
    "    \n",
    "    if xa == xb and xa == xc:\n",
    "        return True\n",
    "    elif xa == xb and xa != xc:\n",
    "        return False\n",
    "    elif ya == yb and ya == yc:\n",
    "        return True\n",
    "    elif ya == yb and xa != yc:\n",
    "        return False\n",
    "    \n",
    "    else:\n",
    "        a1 = (yb - ya) / (xb - xa)\n",
    "        a2 = (yc - ya) / (xc - xa) \n",
    "        return abs(a1) == abs(a2)"
   ]
  },
  {
   "cell_type": "markdown",
   "id": "ae8c6217",
   "metadata": {},
   "source": [
    "#### Exercise 3"
   ]
  },
  {
   "cell_type": "code",
   "execution_count": 12,
   "id": "a7750d59",
   "metadata": {},
   "outputs": [
    {
     "name": "stdout",
     "output_type": "stream",
     "text": [
      "100\n",
      "50\n",
      "25\n",
      "12\n",
      "6\n",
      "3\n",
      "1\n"
     ]
    },
    {
     "data": {
      "text/plain": [
       "[1, 1, 0, 0, 1, 0, 0]"
      ]
     },
     "execution_count": 12,
     "metadata": {},
     "output_type": "execute_result"
    }
   ],
   "source": [
    "def decimal2base(N, b):\n",
    "    list_base = []\n",
    "\n",
    "    while N > 0:\n",
    "        print(N)\n",
    "        list_base.append(N % b)\n",
    "        N = N // b\n",
    "        \n",
    "    return list_base[::-1]\n",
    "\n",
    "\n",
    "decimal2base(100, 2)"
   ]
  },
  {
   "cell_type": "code",
   "execution_count": 13,
   "id": "31705adb",
   "metadata": {},
   "outputs": [
    {
     "data": {
      "text/plain": [
       "100"
      ]
     },
     "execution_count": 13,
     "metadata": {},
     "output_type": "execute_result"
    }
   ],
   "source": [
    "def base2decimal(list_base, b):\n",
    "\n",
    "    N = 0\n",
    "    k = 1\n",
    "    for i in list_base[::-1]:\n",
    "        \n",
    "        N += k* i\n",
    "        k *= b\n",
    "        \n",
    "    return N\n",
    "\n",
    "base2decimal([1, 1, 0, 0, 1, 0, 0], 2)"
   ]
  },
  {
   "cell_type": "markdown",
   "id": "d3601c6b",
   "metadata": {},
   "source": [
    "## II. Lists\n",
    "\n",
    "#### Exercise 4"
   ]
  },
  {
   "cell_type": "code",
   "execution_count": 14,
   "id": "c3d90106",
   "metadata": {},
   "outputs": [
    {
     "name": "stdout",
     "output_type": "stream",
     "text": [
      "True\n",
      "False\n"
     ]
    }
   ],
   "source": [
    "def isprime(p):\n",
    "    \n",
    "    for k in range(2, p-1):\n",
    "        if p % k == 0:\n",
    "            return False\n",
    "        \n",
    "    return True\n",
    "\n",
    "# complexity n. Can reduce to sqrt(n)\n",
    "\n",
    "print(isprime(1033))\n",
    "print(isprime(4353))"
   ]
  },
  {
   "cell_type": "code",
   "execution_count": 15,
   "id": "a46d482a",
   "metadata": {},
   "outputs": [
    {
     "data": {
      "text/plain": [
       "[2,\n",
       " 3,\n",
       " 5,\n",
       " 7,\n",
       " 11,\n",
       " 13,\n",
       " 17,\n",
       " 19,\n",
       " 23,\n",
       " 29,\n",
       " 31,\n",
       " 37,\n",
       " 41,\n",
       " 43,\n",
       " 47,\n",
       " 53,\n",
       " 59,\n",
       " 61,\n",
       " 67,\n",
       " 71,\n",
       " 73,\n",
       " 79,\n",
       " 83,\n",
       " 89,\n",
       " 97]"
      ]
     },
     "execution_count": 15,
     "metadata": {},
     "output_type": "execute_result"
    }
   ],
   "source": [
    "def get_prime_list(N):\n",
    "    prime_list = [2, 3]\n",
    "    for i in range(4,N):\n",
    "        if isprime(i):\n",
    "            prime_list.append(i)\n",
    "            \n",
    "    return prime_list\n",
    "\n",
    "get_prime_list(100)\n",
    "\n",
    "# complexity n**2 : sum(0->n): n*n/2"
   ]
  },
  {
   "cell_type": "code",
   "execution_count": 19,
   "id": "4204d104",
   "metadata": {},
   "outputs": [
    {
     "data": {
      "text/plain": [
       "168"
      ]
     },
     "execution_count": 19,
     "metadata": {},
     "output_type": "execute_result"
    }
   ],
   "source": [
    "\n",
    "def eratosthenes_sieve(N): \n",
    "    # allows to skip numbers \n",
    "    \n",
    "    L = [True]*N\n",
    "    \n",
    "    L[0] = False\n",
    "    L[1] = False\n",
    "\n",
    "    for i in range(N):\n",
    "        if L[i]: # check only remaining True \n",
    "            k = 2\n",
    "            while (i * k) < N:\n",
    "                L[i*k] = False\n",
    "                k += 1\n",
    "    \n",
    "    return [i for i in range(N) if L[i]]\n",
    "\n",
    "len(eratosthenes_sieve(1000))"
   ]
  },
  {
   "cell_type": "code",
   "execution_count": 17,
   "id": "19f558e1",
   "metadata": {},
   "outputs": [
    {
     "name": "stdout",
     "output_type": "stream",
     "text": [
      "Time for first method : 0.2558424472808838\n",
      "Time for second method : 0.0018506050109863281\n"
     ]
    }
   ],
   "source": [
    "import time\n",
    "\n",
    "N = 10000\n",
    "\n",
    "start = time.time()\n",
    "get_prime_list(N)\n",
    "stop = time.time()\n",
    "print('Time for first method : {}'.format(stop - start))\n",
    "\n",
    "start = time.time()\n",
    "eratosthenes_sieve(N)\n",
    "stop = time.time()\n",
    "print('Time for second method : {}'.format(stop - start))"
   ]
  },
  {
   "cell_type": "code",
   "execution_count": 18,
   "id": "51d21249",
   "metadata": {},
   "outputs": [
    {
     "name": "stdout",
     "output_type": "stream",
     "text": [
      "Time for first method : 5.9604644775390625e-06\n",
      "Time for second method : 4.5299530029296875e-06\n",
      "Time for first method : 2.4080276489257812e-05\n",
      "Time for second method : 7.867813110351562e-06\n",
      "Time for first method : 5.650520324707031e-05\n",
      "Time for second method : 1.430511474609375e-05\n",
      "Time for first method : 0.0009226799011230469\n",
      "Time for second method : 8.797645568847656e-05\n",
      "Time for first method : 0.0037059783935546875\n",
      "Time for second method : 0.0001983642578125\n",
      "Time for first method : 0.08667826652526855\n",
      "Time for second method : 0.0009267330169677734\n",
      "Time for first method : 0.23535370826721191\n",
      "Time for second method : 0.001779317855834961\n",
      "Time for first method : 0.49907970428466797\n",
      "Time for second method : 0.0026967525482177734\n",
      "Time for first method : 0.8776886463165283\n",
      "Time for second method : 0.00371551513671875\n"
     ]
    },
    {
     "data": {
      "text/plain": [
       "[]"
      ]
     },
     "execution_count": 18,
     "metadata": {},
     "output_type": "execute_result"
    },
    {
     "data": {
      "image/png": "[encoded data removed]",
      "text/plain": [
       "<Figure size 640x480 with 1 Axes>"
      ]
     },
     "metadata": {},
     "output_type": "display_data"
    }
   ],
   "source": [
    "import time\n",
    "\n",
    "prime_time = []\n",
    "eratos_time = []\n",
    "\n",
    "for N in [10, 50, 100, 500, 1000, 5000, 10000, 15000, 20000]:\n",
    "\n",
    "    start = time.time()\n",
    "    get_prime_list(N)\n",
    "    stop = time.time()\n",
    "    prime_time += [stop - start]\n",
    "    print('Time for first method : {}'.format(stop - start))\n",
    "\n",
    "    start = time.time()\n",
    "    eratosthenes_sieve(N)\n",
    "    stop = time.time()\n",
    "    eratos_time += [stop - start]\n",
    "    print('Time for second method : {}'.format(stop - start))\n",
    "    \n",
    "    \n",
    "import matplotlib.pyplot as plt\n",
    "plt.figure()\n",
    "plt.plot(prime_time, \"*-\", label=\"naive\")\n",
    "plt.plot(eratos_time, \"*-\", label=\"eratosthene\")\n",
    "plt.legend()\n",
    "plt.plot()"
   ]
  },
  {
   "cell_type": "markdown",
   "id": "7f738dd2",
   "metadata": {},
   "source": [
    "#### Exercise 5\n"
   ]
  },
  {
   "cell_type": "code",
   "execution_count": 17,
   "id": "7a44d047",
   "metadata": {},
   "outputs": [],
   "source": [
    "import random\n",
    "\n",
    "def RandomIntList(N, a, b):\n",
    "    return [random.randint(a, b) for i in range(N)]\n",
    "\n",
    "_list = RandomIntList(10, 0, 10)\n",
    "element = 5\n"
   ]
  },
  {
   "cell_type": "code",
   "execution_count": 18,
   "id": "9788a518",
   "metadata": {},
   "outputs": [
    {
     "name": "stdout",
     "output_type": "stream",
     "text": [
      "***** IsInList *****\n",
      "[5, 0, 4, 0, 5, 2, 7, 3, 5, 6]\n",
      "5\n",
      "True\n"
     ]
    }
   ],
   "source": [
    "def IsInList(element, L):\n",
    "    \n",
    "    for x in L: \n",
    "        if x == element:\n",
    "            return True\n",
    "    return False\n",
    "\n",
    "print('***** IsInList *****')\n",
    "print(_list)\n",
    "print(element)\n",
    "print(IsInList(element, _list))"
   ]
  },
  {
   "cell_type": "code",
   "execution_count": 19,
   "id": "d8dc2000",
   "metadata": {},
   "outputs": [
    {
     "name": "stdout",
     "output_type": "stream",
     "text": [
      "***** GetFirstIndexList *****\n",
      "[5, 0, 4, 0, 5, 2, 7, 3, 5, 6]\n",
      "5\n",
      "0\n"
     ]
    }
   ],
   "source": [
    "def GetFirstIndexList(element, L):\n",
    "    \n",
    "    for i in range(len(L)):\n",
    "        if L[i] == element:\n",
    "            return i\n",
    "    return -1\n",
    "\n",
    "print('***** GetFirstIndexList *****')\n",
    "print(_list)\n",
    "print(element)\n",
    "print(GetFirstIndexList(element, _list))"
   ]
  },
  {
   "cell_type": "code",
   "execution_count": 20,
   "id": "55443afb",
   "metadata": {},
   "outputs": [
    {
     "name": "stdout",
     "output_type": "stream",
     "text": [
      "***** GetAllIndexList *****\n",
      "[5, 0, 4, 0, 5, 2, 7, 3, 5, 6]\n",
      "5\n",
      "[0, 4, 8]\n"
     ]
    }
   ],
   "source": [
    "def GetAllIndexList(element, L):\n",
    "    \n",
    "    index = []\n",
    "    \n",
    "    for i in range(len(L)):\n",
    "        if L[i] == element:\n",
    "            index.append(i)\n",
    "    return index\n",
    "\n",
    "print('***** GetAllIndexList *****')\n",
    "print(_list)\n",
    "print(element)\n",
    "print(GetAllIndexList(element, _list))"
   ]
  },
  {
   "cell_type": "code",
   "execution_count": 21,
   "id": "3a928a78",
   "metadata": {},
   "outputs": [
    {
     "name": "stdout",
     "output_type": "stream",
     "text": [
      "***** CountElementList_v1 *****\n",
      "[5, 0, 4, 0, 5, 2, 7, 3, 5, 6]\n",
      "5\n",
      "3\n"
     ]
    }
   ],
   "source": [
    "def CountElementList_v1(element, L):\n",
    "    \n",
    "    count = 0\n",
    "    for x in L: \n",
    "        if x == element:\n",
    "            count += 1\n",
    "    return count\n",
    "\n",
    "print('***** CountElementList_v1 *****')\n",
    "print(_list)\n",
    "print(element)\n",
    "print(CountElementList_v1(element, _list))"
   ]
  },
  {
   "cell_type": "code",
   "execution_count": 22,
   "id": "724199f3",
   "metadata": {},
   "outputs": [
    {
     "name": "stdout",
     "output_type": "stream",
     "text": [
      "***** CountElementList_v2 *****\n",
      "[5, 0, 4, 0, 5, 2, 7, 3, 5, 6]\n",
      "5\n",
      "3\n"
     ]
    }
   ],
   "source": [
    "def CountElementList_v2(element, L):\n",
    "    \n",
    "    index = GetAllIndexList(element, L)\n",
    "    return len(index)\n",
    "\n",
    "print('***** CountElementList_v2 *****')\n",
    "print(_list)\n",
    "print(element)\n",
    "print(CountElementList_v2(element, _list))"
   ]
  },
  {
   "cell_type": "markdown",
   "id": "baace6a8",
   "metadata": {},
   "source": [
    "#### Exercise 6\n",
    "`random.random()` generates a random float between [0.,1.]"
   ]
  },
  {
   "cell_type": "code",
   "execution_count": 33,
   "id": "c57edd40",
   "metadata": {},
   "outputs": [
    {
     "name": "stdout",
     "output_type": "stream",
     "text": [
      "[6.394267984578837, 0.25010755222666936, 2.7502931836911926, 2.2321073814882277, 7.364712141640124, 6.766994874229113, 8.921795677048454, 0.8693883262941615, 4.2192181968527045, 0.29797219438070344, 2.1863797480360336, 5.053552881033624, 0.26535969683863625, 1.988376506866485, 6.498844377795232, 5.449414806032166, 2.204406220406967, 5.892656838759088, 8.094304566778266, 0.06498759678061017]\n"
     ]
    }
   ],
   "source": [
    "def RandomFloatList(N, a, b):\n",
    "    return [ (b-a) * random.random() + a for i in range(N)]\n",
    "\n",
    "_list = RandomFloatList(20, 0, 10)\n",
    "# If you want to fix the random state you can use random.seed with a specific number \n",
    "random.seed(42)\n",
    "\n",
    "print(_list)\n"
   ]
  },
  {
   "cell_type": "code",
   "execution_count": 25,
   "id": "d80e1e54",
   "metadata": {},
   "outputs": [
    {
     "name": "stdout",
     "output_type": "stream",
     "text": [
      "***** FindMin *****\n",
      "[5.066956405723818, 4.954061252501296, 6.433216713587166, 7.039457447466749, 3.745194697185854, 3.4826429381235338, 0.22609044869450146, 7.299187961739894, 4.756793875619208, 3.1858352368514065, 1.467802931729405, 6.032535123585614, 4.1140217513880675, 0.5350377306623377, 4.65866815613674, 2.2604934169749225, 7.732185601998167, 8.822872378235346, 7.946469465637351, 5.881208896526755]\n",
      "Minimum Value : 0.22609044869450146\n",
      "Index position : 6\n"
     ]
    }
   ],
   "source": [
    "def FindMin(L):\n",
    "    \n",
    "    running_min = L[0]\n",
    "    running_index = 0\n",
    "    \n",
    "    for i in range(len(L)):\n",
    "        if L[i] < running_min:\n",
    "            running_min, running_index = L[i], i\n",
    "            \n",
    "    return running_min, running_index\n",
    "\n",
    "print('***** FindMin *****')\n",
    "print(_list)\n",
    "minimum, index = FindMin(_list)\n",
    "print('Minimum Value : {}'.format(minimum))\n",
    "print('Index position : {}'.format(index))"
   ]
  },
  {
   "cell_type": "code",
   "execution_count": 26,
   "id": "5258ff18",
   "metadata": {},
   "outputs": [
    {
     "name": "stdout",
     "output_type": "stream",
     "text": [
      "***** FindMax *****\n",
      "[5.066956405723818, 4.954061252501296, 6.433216713587166, 7.039457447466749, 3.745194697185854, 3.4826429381235338, 0.22609044869450146, 7.299187961739894, 4.756793875619208, 3.1858352368514065, 1.467802931729405, 6.032535123585614, 4.1140217513880675, 0.5350377306623377, 4.65866815613674, 2.2604934169749225, 7.732185601998167, 8.822872378235346, 7.946469465637351, 5.881208896526755]\n",
      "Maximum Value : 8.822872378235346\n",
      "Index position : 17\n"
     ]
    }
   ],
   "source": [
    "def FindMax(L):\n",
    "    \n",
    "    running_max = L[0]\n",
    "    running_index = 0\n",
    "    n = len(L)\n",
    "    \n",
    "    for i in range(n):\n",
    "        if L[i] > running_max:\n",
    "            running_max, running_index = L[i], i\n",
    "\n",
    "    return running_max, running_index\n",
    "\n",
    "print('***** FindMax *****')\n",
    "print(_list)\n",
    "maximum, index = FindMax(_list)\n",
    "print('Maximum Value : {}'.format(maximum))\n",
    "print('Index position : {}'.format(index))"
   ]
  },
  {
   "cell_type": "code",
   "execution_count": 28,
   "id": "1d1fd251",
   "metadata": {},
   "outputs": [],
   "source": [
    "def FindAmplitude_v1(L):\n",
    "    \n",
    "    maximum, index_min = FindMax(_list)\n",
    "    minimum, index_max = FindMin(_list)\n",
    "    \n",
    "    return maximum - minimum\n",
    "\n",
    "def FindAmplitude_v2(L):\n",
    "    \n",
    "    running_max = L[0]\n",
    "    running_min = L[0]\n",
    "    \n",
    "    for i in range(len(L)):\n",
    "        if L[i] > running_max:\n",
    "            running_max = L[i]\n",
    "            amplitude = running_max - running_min\n",
    "        if L[i] < running_min:\n",
    "            running_min = L[i]\n",
    "            amplitude = running_max - running_min\n",
    "            \n",
    "    return amplitude\n",
    "\n",
    "def GetAverage(L):\n",
    "\n",
    "    a = 0\n",
    "    n = len(L)\n",
    "    \n",
    "    for i in range(n):\n",
    "        a += L[i]\n",
    "        \n",
    "    return a / n\n",
    "\n",
    "def GetStd(L):\n",
    "    \n",
    "    average = GetAverage(L)\n",
    "    std = 0\n",
    "    n = len(L)\n",
    "    \n",
    "    for i in range(n):\n",
    "        std += (L[i] - average) ** 2\n",
    "    std = math.sqrt( std / n)\n",
    "    \n",
    "    return std\n"
   ]
  },
  {
   "cell_type": "markdown",
   "id": "f2d79d8c",
   "metadata": {},
   "source": [
    "## III. Sorting\n",
    "\n",
    "#### Exercise 1"
   ]
  },
  {
   "cell_type": "code",
   "execution_count": 29,
   "id": "22c02e61",
   "metadata": {},
   "outputs": [
    {
     "name": "stdout",
     "output_type": "stream",
     "text": [
      "[5.066956405723818, 4.954061252501296, 6.433216713587166, 7.039457447466749, 3.745194697185854, 3.4826429381235338, 0.22609044869450146, 7.299187961739894, 4.756793875619208, 3.1858352368514065, 1.467802931729405, 6.032535123585614, 4.1140217513880675, 0.5350377306623377, 4.65866815613674, 2.2604934169749225, 7.732185601998167, 8.822872378235346, 7.946469465637351, 5.881208896526755]\n",
      "[6.433216713587166, 4.954061252501296, 5.066956405723818, 7.039457447466749, 3.745194697185854, 3.4826429381235338, 0.22609044869450146, 7.299187961739894, 4.756793875619208, 3.1858352368514065, 1.467802931729405, 6.032535123585614, 4.1140217513880675, 0.5350377306623377, 4.65866815613674, 2.2604934169749225, 7.732185601998167, 8.822872378235346, 7.946469465637351, 5.881208896526755]\n"
     ]
    }
   ],
   "source": [
    "def exchange(L, i, j):\n",
    "    # needs a pivot variable for it\n",
    "    temp = L[i]\n",
    "    L[i] = L[j]\n",
    "    L[j] = temp\n",
    "    \n",
    "print(_list)\n",
    "exchange(_list, 0, 2)\n",
    "print(_list)"
   ]
  },
  {
   "cell_type": "code",
   "execution_count": 32,
   "id": "e2776830",
   "metadata": {},
   "outputs": [
    {
     "name": "stdout",
     "output_type": "stream",
     "text": [
      "Sorted list:\n",
      " [0.22609044869450146, 0.5350377306623377, 1.467802931729405, 2.2604934169749225, 3.1858352368514065, 3.4826429381235338, 3.745194697185854, 4.1140217513880675, 4.65866815613674, 4.756793875619208, 4.954061252501296, 5.066956405723818, 5.881208896526755, 6.032535123585614, 6.433216713587166, 7.039457447466749, 7.299187961739894, 7.732185601998167, 7.946469465637351, 8.822872378235346]\n"
     ]
    }
   ],
   "source": [
    "def selection_sort(L):\n",
    " \n",
    "    n = len(L)\n",
    "    for i in range(n-1): \n",
    "        # no need to go to the max range n, as the nth will be in the good order at the end\n",
    "        _, index = FindMin(L[i:])\n",
    "        \n",
    "        index += i # i as starting index of the real list \n",
    "        exchange(L, index, i)\n",
    "        \n",
    "selection_sort(_list)\n",
    "print('Sorted list:\\n', _list)"
   ]
  },
  {
   "cell_type": "markdown",
   "id": "f0a0ce90",
   "metadata": {},
   "source": [
    "#### Exercise 2"
   ]
  },
  {
   "cell_type": "code",
   "execution_count": 36,
   "id": "9caaeef1",
   "metadata": {},
   "outputs": [],
   "source": [
    "def bubble_sort(L):\n",
    "    \n",
    "    n = len(L)\n",
    "    list_sorted = False\n",
    "    \n",
    "    while not list_sorted:\n",
    "        \n",
    "        # if no swap is done during the parsing of the list, it means it is ordered and we can stop\n",
    "        list_sorted = True\n",
    "        for i in range(n -1):\n",
    "            if L[i] > L[i+1]:\n",
    "                exchange(L, i, i+1)\n",
    "                list_sorted = False\n",
    "                \n",
    "        # we stop at most when n reaches 1 so that n-1 = 0, with for j in range (n, 1, -1) ... not more efficient, even less  \n",
    "        n -= 1"
   ]
  },
  {
   "cell_type": "code",
   "execution_count": 47,
   "id": "20048334",
   "metadata": {},
   "outputs": [
    {
     "name": "stdout",
     "output_type": "stream",
     "text": [
      "Messy list:\n",
      " [7.143415308319088, 2.458656341138017, 9.986420650951443, 6.2573970332555815, 5.902832153268028, 7.466196133173472, 3.615836318611919, 1.9261813236309167, 3.7116471863467093, 0.09515691323376818, 4.234438422330497, 1.4015176849123379, 0.19960507806980776, 8.425096445484188, 6.5565559333513885, 4.227732357048658, 6.690964160733085, 2.1515008763383214, 0.06929915515899832, 2.020034399682067]\n",
      "Sorted list:\n",
      " [0.06929915515899832, 0.09515691323376818, 0.19960507806980776, 1.4015176849123379, 1.9261813236309167, 2.020034399682067, 2.1515008763383214, 2.458656341138017, 3.615836318611919, 3.7116471863467093, 4.227732357048658, 4.234438422330497, 5.902832153268028, 6.2573970332555815, 6.5565559333513885, 6.690964160733085, 7.143415308319088, 7.466196133173472, 8.425096445484188, 9.986420650951443]\n"
     ]
    }
   ],
   "source": [
    "_list = RandomFloatList(20, 0, 10)\n",
    "# If you want to fix the random state you can use random.seed with a specific number \n",
    "random.seed(42)\n",
    "\n",
    "print(\"Messy list:\\n\", _list)\n",
    "bubble_sort(_list)\n",
    "print('Sorted list:\\n', _list)"
   ]
  },
  {
   "cell_type": "markdown",
   "id": "57703017",
   "metadata": {},
   "source": [
    "#### Exercise 3"
   ]
  },
  {
   "cell_type": "code",
   "execution_count": 39,
   "id": "c5638609",
   "metadata": {},
   "outputs": [],
   "source": [
    "def insertion_sort(L):\n",
    "    \n",
    "    n = len(L)\n",
    "    for i in range(1, n):\n",
    "        j = i\n",
    "        x = L[i]\n",
    "        \n",
    "        while j>0 and L[j-1]>x:\n",
    "            L[j] = L[j-1]\n",
    "            # decreasing step until j=0, sure stop\n",
    "            j -= 1\n",
    "            \n",
    "        L[j] = x\n",
    "\n",
    "# can do a for loop by replacing the while with a decreasing loop \n",
    "# and inside put a test whether the element is superior to its precedent"
   ]
  },
  {
   "cell_type": "code",
   "execution_count": 41,
   "id": "492e5550",
   "metadata": {},
   "outputs": [
    {
     "name": "stdout",
     "output_type": "stream",
     "text": [
      "Messy list:\n",
      " [6.394267984578837, 0.25010755222666936, 2.7502931836911926, 2.2321073814882277, 7.364712141640124, 6.766994874229113, 8.921795677048454, 0.8693883262941615, 4.2192181968527045, 0.29797219438070344, 2.1863797480360336, 5.053552881033624, 0.26535969683863625, 1.988376506866485, 6.498844377795232, 5.449414806032166, 2.204406220406967, 5.892656838759088, 8.094304566778266, 0.06498759678061017]\n",
      "Sorted list:\n",
      " [0.06498759678061017, 0.25010755222666936, 0.26535969683863625, 0.29797219438070344, 0.8693883262941615, 1.988376506866485, 2.1863797480360336, 2.204406220406967, 2.2321073814882277, 2.7502931836911926, 4.2192181968527045, 5.053552881033624, 5.449414806032166, 5.892656838759088, 6.394267984578837, 6.498844377795232, 6.766994874229113, 7.364712141640124, 8.094304566778266, 8.921795677048454]\n"
     ]
    }
   ],
   "source": [
    "_list = RandomFloatList(20, 0, 10)\n",
    "# If you want to fix the random state you can use random.seed with a specific number \n",
    "random.seed(42)\n",
    "\n",
    "print(\"Messy list:\\n\", _list)\n",
    "insertion_sort(_list)\n",
    "print('Sorted list:\\n', _list)"
   ]
  },
  {
   "cell_type": "markdown",
   "id": "c32bed0f",
   "metadata": {},
   "source": [
    "#### Exercise 4"
   ]
  },
  {
   "cell_type": "code",
   "execution_count": 42,
   "id": "d57aa10b",
   "metadata": {},
   "outputs": [
    {
     "name": "stdout",
     "output_type": "stream",
     "text": [
      "[4, 9, 16, 25, 36, 49, 64, 81, 100, 121, 144, 169, 196, 225, 256, 289, 324, 361, 400, 441, 484, 529, 576, 625, 676, 729, 784, 841]\n"
     ]
    }
   ],
   "source": [
    "list_size = [i**2 for i in range(2,30)]\n",
    "print(list_size)\n",
    "# to compute an average time on n_mean lists of the same size \n",
    "n_mean = 10"
   ]
  },
  {
   "cell_type": "code",
   "execution_count": 43,
   "id": "5f43a134",
   "metadata": {},
   "outputs": [],
   "source": [
    "def test_time(list_size, sort_function):\n",
    "    times_list = []\n",
    "    \n",
    "    for i in list_size:\n",
    "        sum_time = 0\n",
    "        for k in range(n_mean):\n",
    "            _list = [random.randint(0, 10000) for i in range(i)]\n",
    "            start_time =  time.time()\n",
    "            sort_function(_list)\n",
    "            stop_time = time.time()\n",
    "            sum_time += stop_time - start_time\n",
    "            \n",
    "        times_list.append(sum_time/n_mean)\n",
    "        \n",
    "    return times_list"
   ]
  },
  {
   "cell_type": "code",
   "execution_count": 44,
   "id": "540df117",
   "metadata": {},
   "outputs": [],
   "source": [
    "time_selection_sort = test_time(list_size, selection_sort)\n",
    "time_bubble_sort = test_time(list_size, bubble_sort)\n",
    "time_insertion_sort = test_time(list_size, insertion_sort)\n"
   ]
  },
  {
   "cell_type": "code",
   "execution_count": 46,
   "id": "c00c5b6b",
   "metadata": {},
   "outputs": [
    {
     "data": {
      "text/plain": [
       "<matplotlib.legend.Legend at 0x20fdd721940>"
      ]
     },
     "execution_count": 46,
     "metadata": {},
     "output_type": "execute_result"
    },
    {
     "data": {
      "image/png": "[encoded data removed]",
      "text/plain": [
       "<Figure size 432x288 with 1 Axes>"
      ]
     },
     "metadata": {
      "needs_background": "light"
     },
     "output_type": "display_data"
    }
   ],
   "source": [
    "import matplotlib.pyplot as plt \n",
    "plt.figure()\n",
    "plt.plot(list_size, time_selection_sort, label='Selection sort')\n",
    "plt.plot(list_size, time_bubble_sort, label='Bubble sort')\n",
    "plt.plot(list_size, time_insertion_sort, label='Insertion sort')\n",
    "plt.legend()"
   ]
  },
  {
   "cell_type": "code",
   "execution_count": null,
   "id": "a9ba924b",
   "metadata": {},
   "outputs": [],
   "source": []
  }
 ],
 "metadata": {
  "kernelspec": {
   "display_name": "Python 3 (ipykernel)",
   "language": "python",
   "name": "python3"
  },
  "language_info": {
   "codemirror_mode": {
    "name": "ipython",
    "version": 3
   },
   "file_extension": ".py",
   "mimetype": "text/x-python",
   "name": "python",
   "nbconvert_exporter": "python",
   "pygments_lexer": "ipython3",
   "version": "3.12.3"
  }
 },
 "nbformat": 4,
 "nbformat_minor": 5
}
