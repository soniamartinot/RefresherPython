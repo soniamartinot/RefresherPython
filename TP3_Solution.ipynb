{
 "cells": [
  {
   "cell_type": "markdown",
   "metadata": {},
   "source": [
    "# TP3 - Numpy library"
   ]
  },
  {
   "cell_type": "markdown",
   "metadata": {
    "id": "xTtTCVjBaNa3"
   },
   "source": [
    "## I. Matrix creation"
   ]
  },
  {
   "cell_type": "code",
   "execution_count": 1,
   "metadata": {},
   "outputs": [],
   "source": [
    "import numpy as np"
   ]
  },
  {
   "cell_type": "markdown",
   "metadata": {},
   "source": [
    "#### Exercise 1 : 1D Matrix"
   ]
  },
  {
   "cell_type": "code",
   "execution_count": 2,
   "metadata": {
    "id": "TZcuyXVfaLJP"
   },
   "outputs": [],
   "source": [
    "def print_arrays(list_array):\n",
    "    for array in list_array:\n",
    "        print('********')\n",
    "        print(array.shape)\n",
    "        print(array)\n"
   ]
  },
  {
   "cell_type": "code",
   "execution_count": 3,
   "metadata": {
    "colab": {
     "base_uri": "https://localhost:8080/"
    },
    "id": "mpogc0GvUnxF",
    "outputId": "9d6929cc-82c4-4336-9c02-e390c98e5faf"
   },
   "outputs": [
    {
     "name": "stdout",
     "output_type": "stream",
     "text": [
      "********\n",
      "(9,)\n",
      "[1 2 3 4 5 6 7 8 9]\n",
      "********\n",
      "(1, 9)\n",
      "[[1 2 3 4 5 6 7 8 9]]\n",
      "********\n",
      "(10,)\n",
      "[0 1 2 3 4 5 6 7 8 9]\n",
      "********\n",
      "(10,)\n",
      "[ 0.          1.11111111  2.22222222  3.33333333  4.44444444  5.55555556\n",
      "  6.66666667  7.77777778  8.88888889 10.        ]\n",
      "********\n",
      "(10,)\n",
      "[0 1 2 3 4 5 6 7 8 9]\n"
     ]
    }
   ],
   "source": [
    "A = np.array([1, 2, 3, 4, 5, 6, 7, 8, 9])\n",
    "A2 = np.array([[1, 2, 3, 4, 5, 6, 7, 8, 9]])\n",
    "B = np.array(range(10))\n",
    "C = np.linspace(0, 10, 10)\n",
    "D = np.arange(0, 10, 1)\n",
    "\n",
    "list_arrays = [A, A2, B, C, D]\n",
    "print_arrays(list_arrays)"
   ]
  },
  {
   "cell_type": "code",
   "execution_count": 4,
   "metadata": {
    "colab": {
     "base_uri": "https://localhost:8080/"
    },
    "id": "KP6FgmDZPZuB",
    "outputId": "44254dcf-f4dd-4b9b-d83a-1324f80dd380"
   },
   "outputs": [
    {
     "name": "stdout",
     "output_type": "stream",
     "text": [
      "[0 1 2 3 4 5 6 7 8 9]\n",
      "int32 int32\n",
      "[30 27 24 21 18 15 12  9]\n"
     ]
    }
   ],
   "source": [
    "# C == D ?\n",
    "# np.linspace results in float by default\n",
    "C2 = np.linspace(0, 9, 10, dtype=int)\n",
    "print(C2)\n",
    "print(C2.dtype, D.dtype)\n",
    "\n",
    "# second\n",
    "np.arange(1, 20)\n",
    "\n",
    "np.array([3 for i in range(20)])\n",
    "print(3*np.ones(20, dtype=int))\n",
    "\n",
    "print(np.arange(30, 8, -3))\n",
    "# print(np.array([3] * 20))"
   ]
  },
  {
   "cell_type": "code",
   "execution_count": 9,
   "metadata": {},
   "outputs": [
    {
     "data": {
      "text/plain": [
       "(array([[1, 2, 3],\n",
       "        [4, 5, 6],\n",
       "        [7, 8, 9]]),\n",
       " array([[1, 2, 3],\n",
       "        [4, 5, 6],\n",
       "        [7, 8, 9]]))"
      ]
     },
     "execution_count": 9,
     "metadata": {},
     "output_type": "execute_result"
    }
   ],
   "source": [
    "# There are 2 ways to use the reshape function:\n",
    "A2.reshape(3, 3), np.reshape(A, (3, 3))"
   ]
  },
  {
   "cell_type": "markdown",
   "metadata": {},
   "source": [
    "#### Exrcise 2 : 2D Matrix"
   ]
  },
  {
   "cell_type": "code",
   "execution_count": 5,
   "metadata": {
    "colab": {
     "base_uri": "https://localhost:8080/"
    },
    "id": "V9mT4DAVUpQV",
    "outputId": "4dadb550-473b-4b22-a10a-886da83c8773"
   },
   "outputs": [
    {
     "name": "stdout",
     "output_type": "stream",
     "text": [
      "********\n",
      "(3, 3)\n",
      "[[1. 0. 0.]\n",
      " [0. 1. 0.]\n",
      " [0. 0. 1.]]\n",
      "********\n",
      "(3, 3)\n",
      "[[0. 0. 0.]\n",
      " [0. 0. 0.]\n",
      " [0. 0. 0.]]\n",
      "********\n",
      "(3, 3)\n",
      "[[1. 1. 1.]\n",
      " [1. 1. 1.]\n",
      " [1. 1. 1.]]\n",
      "********\n",
      "(3, 3)\n",
      "[[0 1 2]\n",
      " [3 4 5]\n",
      " [6 7 8]]\n",
      "********\n",
      "(3, 3)\n",
      "[[1 0 0]\n",
      " [0 1 0]\n",
      " [0 0 1]]\n",
      "********\n",
      "(3, 3)\n",
      "[[0 1 2]\n",
      " [3 4 5]\n",
      " [6 7 9]]\n",
      "********\n",
      "(3, 3)\n",
      "[[0. 1. 1.]\n",
      " [1. 0. 1.]\n",
      " [1. 1. 0.]]\n",
      "********\n",
      "(3,)\n",
      "[0 4 8]\n",
      "********\n",
      "(3, 3)\n",
      "[[0 0 0]\n",
      " [0 4 0]\n",
      " [0 0 8]]\n"
     ]
    }
   ],
   "source": [
    "A = np.eye(3)\n",
    "B = np.zeros((3, 3))\n",
    "C = np.ones((3, 3))\n",
    "D = np.array(range(9)).reshape(3, 3)\n",
    "E = np.diag([1, 1, 1])\n",
    "F = np.array([[0, 1, 2], [3, 4, 5], [6, 7, 9]])\n",
    "G = np.ones((3, 3)) - np.eye(3)\n",
    "H = np.diag(D)\n",
    "I = np.diag(np.diag(D))\n",
    "# np diag will return the diagonal if the input array is 2D\n",
    "# otherwise if it is 1D it will construct the 2D matrix with input as diagonal\n",
    "\n",
    "print_arrays([A,B,C,D,E,F,G,H,I])"
   ]
  },
  {
   "cell_type": "markdown",
   "metadata": {},
   "source": [
    "#### Exercise 3 : Random Creation"
   ]
  },
  {
   "cell_type": "code",
   "execution_count": 6,
   "metadata": {
    "colab": {
     "base_uri": "https://localhost:8080/"
    },
    "id": "Z8utQPJAUrOe",
    "outputId": "4499f4e2-000b-41d9-8965-1f0a9ffad7ce"
   },
   "outputs": [
    {
     "name": "stdout",
     "output_type": "stream",
     "text": [
      "********\n",
      "(3, 3)\n",
      "[[ 0.52920913  1.04355997  0.12848517]\n",
      " [-1.22515604 -1.18093173 -1.00059203]\n",
      " [ 0.42907712 -0.92804421  0.21606417]]\n",
      "********\n",
      "(3, 3)\n",
      "[[0 8 5]\n",
      " [6 6 7]\n",
      " [6 7 4]]\n",
      "********\n",
      "(3, 3)\n",
      "[[0.77830367 0.32306937 0.37794117]\n",
      " [0.81496668 0.81272383 0.91448906]\n",
      " [0.52267634 0.35396883 0.97710982]]\n"
     ]
    }
   ],
   "source": [
    "A = np.random.randn(3, 3)\n",
    "B = np.random.randint(0, 9, (3, 3))\n",
    "C = np.random.rand(3, 3)\n",
    "print_arrays([A,B,C])\n"
   ]
  },
  {
   "cell_type": "code",
   "execution_count": 7,
   "metadata": {
    "colab": {
     "base_uri": "https://localhost:8080/"
    },
    "id": "-5o2QduqZ6yp",
    "outputId": "7bbaa689-5267-4a48-c643-f1f59a4b808b"
   },
   "outputs": [
    {
     "name": "stdout",
     "output_type": "stream",
     "text": [
      "********\n",
      "(5, 3, 2)\n",
      "[[[ 5.17870566  6.59155451]\n",
      "  [-0.73015103 10.06179428]\n",
      "  [ 9.51534518 17.3577398 ]]\n",
      "\n",
      " [[ 8.67461468 13.27179136]\n",
      "  [ 4.65006218 -1.48811905]\n",
      "  [10.27592365  5.55053309]]\n",
      "\n",
      " [[13.21879671  6.8134102 ]\n",
      "  [ 9.6881198   8.65911813]\n",
      "  [15.09914637  8.68174402]]\n",
      "\n",
      " [[ 3.03764464 -0.20589008]\n",
      "  [16.30828515 15.98547123]\n",
      "  [17.04626169  9.68460151]]\n",
      "\n",
      " [[ 7.30137762  7.61119801]\n",
      "  [ 1.5749255  13.1956314 ]\n",
      "  [ 7.48202754  7.18744124]]]\n",
      "********\n",
      "(3, 1)\n",
      "[[0.18504648]\n",
      " [0.28621076]\n",
      " [0.66735012]]\n",
      "********\n",
      "(100,)\n",
      "[29 95 25 25  0 35 82  6 77 71 80 33 56 27 86  1 31 41 23 60 65 28 58 53\n",
      " 49 67 11 78 60 83 25 74 36 71 66 61 71 99 78 44 47 26 89 75 66 90  5 69\n",
      " 94 46 14 25 10 43 45 99 20 84 84  4 36 86 91 86 73 37 89 63 44 46 53 85\n",
      " 81 33 70 55 12 22 30 80  3 24 16 56 33 33 18 57 44 23 82 97 86  2 92  3\n",
      " 64 62 28 33]\n"
     ]
    }
   ],
   "source": [
    "A = 10 + 5*np.random.randn(5, 3, 2)\n",
    "A2 = np.random.normal(10, 5, size=(5,3,2))\n",
    "\n",
    "B = np.random.rand(3, 1) * 2. - 1.\n",
    "B2 = np.random.uniform(-1, 1, (3, 1))\n",
    "\n",
    "C = np.random.randint(0, 100, 100)\n",
    "print_arrays([A,B,C])"
   ]
  },
  {
   "cell_type": "markdown",
   "metadata": {
    "id": "yr-xz2X2aDVa"
   },
   "source": [
    "## II. Operations on matrix\n",
    "\n",
    "#### Exercise 4"
   ]
  },
  {
   "cell_type": "code",
   "execution_count": 8,
   "metadata": {
    "colab": {
     "base_uri": "https://localhost:8080/"
    },
    "id": "8V1Ve_9-Usr1",
    "outputId": "b25e1121-bb01-45b7-8eea-6010f079c1b0"
   },
   "outputs": [
    {
     "name": "stdout",
     "output_type": "stream",
     "text": [
      "[1, 2, 3, 1, 2, 3]\n",
      "[1, 2, 3, 1, 2, 3, 1, 2, 3]\n",
      "[2 4 6]\n",
      "[2 3 4]\n",
      "[3 6 9]\n",
      "[1 4 9]\n",
      "[ 1  4 27]\n",
      "[1. 1. 1.]\n"
     ]
    }
   ],
   "source": [
    "L = [1, 2, 3]\n",
    "A = np.array([1, 2, 3])\n",
    "\n",
    "print(L + L)  # list concatenation\n",
    "# print(L + 1)  # Impossible as 1 is not a list\n",
    "print(3*L)  # 3 times concatenation\n",
    "# print(L*L)  # Impossible\n",
    "# print(L**L)  # Impossible\n",
    "# print(L/L)  # Impossible\n",
    "\n",
    "print(A + A)  # element-wise aditiion\n",
    "print(A + 1)  # element-wise addition\n",
    "print(3*A)  # scalar times matrixs\n",
    "print(A*A)  # element-wise multiplication\n",
    "print(A**A)  # element-wise exponentiation\n",
    "print(A/A)  # element*wise division\n"
   ]
  },
  {
   "cell_type": "markdown",
   "metadata": {
    "id": "8AlFzPwIb5Y3"
   },
   "source": [
    "## III. Matrix manipulation\n",
    "#### Exercise 5 : Indexing"
   ]
  },
  {
   "cell_type": "code",
   "execution_count": 20,
   "metadata": {},
   "outputs": [
    {
     "data": {
      "text/plain": [
       "array([0, 1, 2])"
      ]
     },
     "execution_count": 20,
     "metadata": {},
     "output_type": "execute_result"
    }
   ],
   "source": [
    "A[0, :]"
   ]
  },
  {
   "cell_type": "code",
   "execution_count": 17,
   "metadata": {
    "colab": {
     "base_uri": "https://localhost:8080/"
    },
    "id": "WbNN4rczUvHY",
    "outputId": "831e7081-2472-4459-cf24-4d9b2bcc6407"
   },
   "outputs": [
    {
     "name": "stdout",
     "output_type": "stream",
     "text": [
      "********\n",
      "(3, 3)\n",
      "[[0 1 2]\n",
      " [3 4 5]\n",
      " [6 7 8]]\n",
      "********\n",
      "(3,)\n",
      "[0 1 2]\n",
      "********\n",
      "(3,)\n",
      "[1 4 7]\n",
      "********\n",
      "(2,)\n",
      "[0 8]\n",
      "********\n",
      "(3,)\n",
      "[2 4 6]\n",
      "********\n",
      "(2, 3)\n",
      "[[0 1 2]\n",
      " [3 4 5]]\n",
      "********\n",
      "(3, 2)\n",
      "[[0 2]\n",
      " [3 5]\n",
      " [6 8]]\n",
      "********\n",
      "(2, 2)\n",
      "[[3 5]\n",
      " [0 2]]\n",
      "********\n",
      "(3, 3)\n",
      "[[8 7 6]\n",
      " [5 4 3]\n",
      " [2 1 0]]\n"
     ]
    }
   ],
   "source": [
    "A = np.array(range(9)).reshape(3, 3)\n",
    "\n",
    "u = A[0, :]\n",
    "v = A[:, 1]\n",
    "w = A[[0, 2], [0, 2]]\n",
    "\n",
    "x = A[[0, 1, 2], [2, 1, 0]]\n",
    "x2 = np.diag(A[:,::-1])\n",
    "\n",
    "C = A[:2, :]\n",
    "C2 = A[[0,1], :]\n",
    "\n",
    "D = A[:, [0, 2]]\n",
    "\n",
    "E = A[1::-1, [0, 2]]\n",
    "\n",
    "F = A[::-1, ::-1]\n",
    "\n",
    "list_arrays = [A, u, v, w, x, C, D, E, F]\n",
    "print_arrays(list_arrays)"
   ]
  },
  {
   "cell_type": "markdown",
   "metadata": {},
   "source": [
    "#### Exercise 6 :  Multiplication\n"
   ]
  },
  {
   "cell_type": "code",
   "execution_count": 29,
   "metadata": {
    "colab": {
     "base_uri": "https://localhost:8080/",
     "height": 357
    },
    "id": "v7sW09DSUxLY",
    "outputId": "03e77e1f-24be-4ce3-b4cb-4ea815c9dacf"
   },
   "outputs": [
    {
     "name": "stdout",
     "output_type": "stream",
     "text": [
      "[[ 7  3  3]\n",
      " [ 0  2 -4]]\n",
      "[[ 7 14]\n",
      " [ 3  0]\n",
      " [ 3 18]]\n"
     ]
    },
    {
     "data": {
      "text/plain": [
       "array([[49, 21, 21],\n",
       "       [21, 13,  1],\n",
       "       [21,  1, 25]])"
      ]
     },
     "execution_count": 29,
     "metadata": {},
     "output_type": "execute_result"
    }
   ],
   "source": [
    "A = np.array([[7, 0], [3, 2], [3, -4]])\n",
    "B = np.array([[1, 2], [0, -3]])\n",
    "C = np.array([[1], [2]])\n",
    "D = np.array([[5, -3]])\n",
    "\n",
    "print(A.T)\n",
    "np.dot(A, B)       # (3, 2) * (2, 2) -> (3, 2)\n",
    "print(np.dot(A, B))\n",
    "# np.dot(A.T, B)  # Impossible\n",
    "# np.dot(B, A)  # Impossible\n",
    "np.dot(B, A.T) # (2, 2) * (2, 3) -> (2, 3)\n",
    "# np.dot(C, A)  # Impossible (2, 1) * (3, 2)\n",
    "np.dot(A, C) # (3, 2) * (2, 1) -> (3, 1)\n",
    "np.dot(D, C) # (1, 2) * (2, 1) -> (1, 1)\n",
    "np.dot(D, B).dot(C) # (1, 2) * (2, 2) * (2, 1)\n",
    "np.dot(A.T, A) # (2, 3) * (3, 2) -> (2, 2)\n",
    "np.dot(A, A.T) # (3, 2) * (2, 3) -> (3, 3)"
   ]
  },
  {
   "cell_type": "markdown",
   "metadata": {},
   "source": [
    "#### Exercise 7 : Boolean indexing"
   ]
  },
  {
   "cell_type": "code",
   "execution_count": 40,
   "metadata": {
    "colab": {
     "base_uri": "https://localhost:8080/"
    },
    "id": "PKDeFdwhUzSQ",
    "outputId": "5cf0fe1a-38e2-4b1e-df63-b31247578ada"
   },
   "outputs": [
    {
     "name": "stdout",
     "output_type": "stream",
     "text": [
      "0 : 0\n",
      "1 : 0\n",
      "1 : 1\n",
      "1 : 2\n",
      "2 : 0\n",
      "\n",
      "A = \n",
      " [[8 2 1]\n",
      " [7 7 6]\n",
      " [7 2 3]]\n",
      "\n",
      "Elements < 5: [(0, 0), (1, 0), (1, 1), (1, 2), (2, 0)]\n"
     ]
    }
   ],
   "source": [
    "A = np.random.randint(0, 9, (3, 3))\n",
    "\n",
    "list_index = []\n",
    "for i in range(3):\n",
    "    for j in range(3):\n",
    "        if A[i,j] > 5:\n",
    "            print('{} : {}'.format(i,j))\n",
    "            list_index.append((i, j))\n",
    "print(\"\\nA = \\n\", A)\n",
    "print(\"\\nElements < 5:\", list_index)"
   ]
  },
  {
   "cell_type": "code",
   "execution_count": 34,
   "metadata": {},
   "outputs": [
    {
     "name": "stdout",
     "output_type": "stream",
     "text": [
      "A = \n",
      " [[0 1 6]\n",
      " [1 0 7]\n",
      " [7 6 7]] \n",
      "\n",
      "A > 5: \n",
      " [[False False  True]\n",
      " [False False  True]\n",
      " [ True  True  True]]\n"
     ]
    }
   ],
   "source": [
    "print(\"A = \\n\", A, '\\n\\nA > 5: \\n', A > 5)"
   ]
  },
  {
   "cell_type": "code",
   "execution_count": 41,
   "metadata": {},
   "outputs": [
    {
     "name": "stdout",
     "output_type": "stream",
     "text": [
      "[[  8   2   1]\n",
      " [  7   7   6]\n",
      " [  7   2 -15]]\n"
     ]
    }
   ],
   "source": [
    "A[2, 2] = -15\n",
    "print(A)"
   ]
  },
  {
   "cell_type": "code",
   "execution_count": 36,
   "metadata": {},
   "outputs": [
    {
     "data": {
      "text/plain": [
       "dtype('bool')"
      ]
     },
     "execution_count": 36,
     "metadata": {},
     "output_type": "execute_result"
    }
   ],
   "source": [
    "comp_A = A>5\n",
    "comp_A.dtype"
   ]
  },
  {
   "cell_type": "code",
   "execution_count": 42,
   "metadata": {},
   "outputs": [
    {
     "name": "stdout",
     "output_type": "stream",
     "text": [
      "[[ True False False]\n",
      " [ True  True  True]\n",
      " [ True False False]] (3, 3) <class 'numpy.ndarray'>\n",
      "[8 7 7 6 7] (5,) <class 'numpy.ndarray'>\n",
      "(array([0, 1, 1, 1, 2]), array([0, 0, 1, 2, 0])) <class 'tuple'>\n",
      "[0 1 1 1 2] [0 0 1 2 0]\n",
      "[8 7 7 6 7]\n",
      "[[  8   2   1]\n",
      " [  7   7   6]\n",
      " [  7   2 -15]]\n",
      "[[0 2 0]\n",
      " [7 7 6]\n",
      " [7 2 0]]\n"
     ]
    }
   ],
   "source": [
    "\"The previous code is not very good looking and quite long, let's do it now faster with vectorization allowed by numpy\"\n",
    "\n",
    "print(A > 5, (A > 5).shape, type(A > 5))\n",
    "\n",
    "print(A[A > 5], A[A > 5].shape, type(A[A > 5]))\n",
    "print(np.where(A > 5), type(np.where(A > 5)))\n",
    "\n",
    "x, y = np.where(A > 5)\n",
    "# Yields the indices as a tuple where the condition is verified (similar to np.nonzero())\n",
    "print(x, y)\n",
    "A[np.where(A > 5)]\n",
    "print(A[np.where(A > 5)])\n",
    "\n",
    "B = A\n",
    "print(B)\n",
    "B[B < 2] = 0\n",
    "B[B > 7] = 0\n",
    "# or B[(B < 2) & (B > 7)] = 0\n",
    "print(B)"
   ]
  },
  {
   "cell_type": "markdown",
   "metadata": {},
   "source": [
    "## IV. Functions\n",
    "#### Exercise 8 : Basic functions"
   ]
  },
  {
   "cell_type": "code",
   "execution_count": 14,
   "metadata": {
    "id": "NmO91a1XfqXa"
   },
   "outputs": [
    {
     "name": "stdout",
     "output_type": "stream",
     "text": [
      "[[      -inf 0.         0.69314718]\n",
      " [1.09861229 1.38629436 1.60943791]\n",
      " [1.79175947 1.94591015 2.07944154]]\n",
      "[[ 0.          0.84147098  0.90929743]\n",
      " [ 0.14112001 -0.7568025  -0.95892427]\n",
      " [-0.2794155   0.6569866   0.98935825]]\n",
      "[[ 1.          0.54030231 -0.41614684]\n",
      " [-0.9899925  -0.65364362  0.28366219]\n",
      " [ 0.96017029  0.75390225 -0.14550003]]\n",
      "[[0.         1.         1.41421356]\n",
      " [1.73205081 2.         2.23606798]\n",
      " [2.44948974 2.64575131 2.82842712]]\n",
      "[[1.00000000e+00 2.71828183e+00 7.38905610e+00]\n",
      " [2.00855369e+01 5.45981500e+01 1.48413159e+02]\n",
      " [4.03428793e+02 1.09663316e+03 2.98095799e+03]]\n"
     ]
    },
    {
     "name": "stderr",
     "output_type": "stream",
     "text": [
      "c:\\users\\sonia.martinot\\appdata\\local\\programs\\python\\python36\\lib\\site-packages\\ipykernel_launcher.py:3: RuntimeWarning: divide by zero encountered in log\n",
      "  This is separate from the ipykernel package so we can avoid doing imports until\n"
     ]
    }
   ],
   "source": [
    "A = np.array(range(9)).reshape(3, 3)\n",
    "\n",
    "print(np.log(A))\n",
    "print(np.sin(A))\n",
    "print(np.cos(A))\n",
    "print(np.sqrt(A))\n",
    "print(np.exp(A))  "
   ]
  },
  {
   "cell_type": "markdown",
   "metadata": {},
   "source": [
    "#### Exercise 9 : Statistics"
   ]
  },
  {
   "cell_type": "code",
   "execution_count": 15,
   "metadata": {},
   "outputs": [
    {
     "name": "stdout",
     "output_type": "stream",
     "text": [
      "19\n",
      "(3, 2, 3)\n",
      "(2, 3, 2)\n",
      "(2, 3)\n"
     ]
    }
   ],
   "source": [
    "A = np.random.randint(0, 20, (2, 3, 2, 3))\n",
    "\n",
    "print(np.max(A))\n",
    "print(np.max(A, axis=0).shape)\n",
    "print(np.max(A, axis=3).shape)\n",
    "print(np.max(A, axis=(2, 3)).shape)"
   ]
  },
  {
   "cell_type": "markdown",
   "metadata": {},
   "source": [
    "#### Exercise 10 : Concatenation functions"
   ]
  },
  {
   "cell_type": "code",
   "execution_count": 16,
   "metadata": {},
   "outputs": [
    {
     "name": "stdout",
     "output_type": "stream",
     "text": [
      "*** B ***\n",
      "[[0 1 2]\n",
      " [3 4 5]\n",
      " [6 7 8]\n",
      " [0 1 2]\n",
      " [3 4 5]\n",
      " [6 7 8]\n",
      " [0 1 2]\n",
      " [3 4 5]\n",
      " [6 7 8]]\n",
      "(9, 3)\n",
      "*** C ***\n",
      "[[0 1 2 0 1 2 0 1 2]\n",
      " [3 4 5 3 4 5 3 4 5]\n",
      " [6 7 8 6 7 8 6 7 8]]\n",
      "(3, 9)\n",
      "*** D ***\n",
      "[[[0 1 2]\n",
      "  [3 4 5]\n",
      "  [6 7 8]]\n",
      "\n",
      " [[0 1 2]\n",
      "  [3 4 5]\n",
      "  [6 7 8]]\n",
      "\n",
      " [[0 1 2]\n",
      "  [3 4 5]\n",
      "  [6 7 8]]]\n",
      "(3, 3, 3)\n"
     ]
    }
   ],
   "source": [
    "A = np.array(range(9)).reshape(3, 3)\n",
    "B = np.concatenate((A, A, A), axis=0)\n",
    "C = np.concatenate((A, A, A), axis=1)\n",
    "D = np.stack((A, A, A), axis=0)\n",
    "print('*** B ***')\n",
    "print(B)\n",
    "print(B.shape)\n",
    "print('*** C ***')\n",
    "print(C)\n",
    "print(C.shape)\n",
    "\n",
    "print('*** D ***')\n",
    "print(D)\n",
    "print(D.shape)"
   ]
  },
  {
   "cell_type": "code",
   "execution_count": null,
   "metadata": {},
   "outputs": [],
   "source": []
  }
 ],
 "metadata": {
  "colab": {
   "provenance": []
  },
  "kernelspec": {
   "display_name": "Python 3 (ipykernel)",
   "language": "python",
   "name": "python3"
  },
  "language_info": {
   "codemirror_mode": {
    "name": "ipython",
    "version": 3
   },
   "file_extension": ".py",
   "mimetype": "text/x-python",
   "name": "python",
   "nbconvert_exporter": "python",
   "pygments_lexer": "ipython3",
   "version": "3.12.3"
  }
 },
 "nbformat": 4,
 "nbformat_minor": 4
}
