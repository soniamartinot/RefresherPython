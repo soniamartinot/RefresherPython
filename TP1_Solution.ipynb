{
 "cells": [
  {
   "cell_type": "markdown",
   "metadata": {},
   "source": [
    "# TP1 - Python Fundamentals\n",
    "\n",
    "## I. Variables & Data Types\n",
    "#### Exercise 1"
   ]
  },
  {
   "cell_type": "code",
   "execution_count": 1,
   "metadata": {
    "id": "EHzEYdcKRBL9",
    "outputId": "8b07fd22-9534-4ccc-8251-c59d4e342780"
   },
   "outputs": [
    {
     "name": "stdout",
     "output_type": "stream",
     "text": [
      "\n",
      "**********\n",
      "2**3.0 + 4\n",
      "Value : 12.0\n",
      "Type : <class 'float'>\n",
      "\n",
      "**********\n",
      "2**3 + 4\n",
      "Value : 12\n",
      "Type : <class 'int'>\n",
      "\n",
      "**********\n",
      "(2**3.0) + 4\n",
      "Value : 12.0\n",
      "Type : <class 'float'>\n",
      "\n",
      "**********\n",
      "2**(3.0 + 4)\n",
      "Value : 128.0\n",
      "Type : <class 'float'>\n",
      "\n",
      "**********\n",
      "True or 4>3 and 3>4\n",
      "Value : True\n",
      "Type : <class 'bool'>\n",
      "\n",
      "**********\n",
      "(True or 4>3) and 3>4\n",
      "Value : False\n",
      "Type : <class 'bool'>\n",
      "\n",
      "**********\n",
      "True or (4>3 and 3>4)\n",
      "Value : True\n",
      "Type : <class 'bool'>\n",
      "\n",
      "**********\n",
      "5%3*5\n",
      "Value : 10\n",
      "Type : <class 'int'>\n",
      "\n",
      "**********\n",
      "(5%3)*5\n",
      "Value : 10\n",
      "Type : <class 'int'>\n",
      "\n",
      "**********\n",
      "5%(3*5)\n",
      "Value : 5\n",
      "Type : <class 'int'>\n",
      "\n",
      "**********\n",
      "5//3*5\n",
      "Value : 5\n",
      "Type : <class 'int'>\n",
      "\n",
      "**********\n",
      "5//(3*5)\n",
      "Value : 0\n",
      "Type : <class 'int'>\n",
      "\n",
      "**********\n",
      "(5//3)*5\n",
      "Value : 5\n",
      "Type : <class 'int'>\n",
      "\n",
      "**********\n",
      "not False and False\n",
      "Value : False\n",
      "Type : <class 'bool'>\n",
      "\n",
      "**********\n",
      "(not False) and False\n",
      "Value : False\n",
      "Type : <class 'bool'>\n",
      "\n",
      "**********\n",
      "not (False and False)\n",
      "Value : True\n",
      "Type : <class 'bool'>\n",
      "\n",
      "**********\n",
      "8.6 + 2\n",
      "Value : 10.6\n",
      "Type : <class 'float'>\n",
      "\n",
      "**********\n",
      "int(8.6) + 2\n",
      "Value : 10\n",
      "Type : <class 'int'>\n",
      "\n",
      "**********\n",
      "int(8.6) + 2.4\n",
      "Value : 10.4\n",
      "Type : <class 'float'>\n",
      "\n",
      "**********\n",
      "int(8.6 + 2.4)\n",
      "Value : 11\n",
      "Type : <class 'int'>\n",
      "\n",
      "**********\n",
      "2*3\n",
      "Value : 6\n",
      "Type : <class 'int'>\n",
      "\n",
      "**********\n",
      "2.0 * 3\n",
      "Value : 6.0\n",
      "Type : <class 'float'>\n",
      "\n",
      "**********\n",
      "float(2) * 3\n",
      "Value : 6.0\n",
      "Type : <class 'float'>\n"
     ]
    }
   ],
   "source": [
    "import math # You need to import math, to use sqrt, pi and log functions\n",
    "\n",
    "\n",
    "expressions = [2**3.0 + 4, 2**3 + 4, (2**3.0) + 4, 2**(3.0 + 4),\n",
    "               True or 4 > 3 and 3 > 4, (True or 4 > 3) and 3 > 4, True or (\n",
    "                   4 > 3 and 3 > 4),\n",
    "               5 % 3*5, (5 % 3)*5, 5 % (3*5),\n",
    "               5//3*5, 5//(3*5), (5//3)*5,\n",
    "               not False and False, (not False) and False, not (\n",
    "                   False and False),\n",
    "               8.6 + 2, int(8.6) + 2, int(8.6) + 2.4, int(8.6 + 2.4),\n",
    "               2*3, 2.0 * 3, float(2) * 3]\n",
    "\n",
    "string_expressions = ['2**3.0 + 4', '2**3 + 4',  '(2**3.0) + 4',  '2**(3.0 + 4)',\n",
    "                      'True or 4>3 and 3>4', '(True or 4>3) and 3>4', 'True or (4>3 and 3>4)',\n",
    "                      '5%3*5', '(5%3)*5', '5%(3*5)',\n",
    "                      '5//3*5', '5//(3*5)', '(5//3)*5',\n",
    "                      'not False and False', '(not False) and False', 'not (False and False)',\n",
    "                      '8.6 + 2', 'int(8.6) + 2', 'int(8.6) + 2.4', 'int(8.6 + 2.4)',\n",
    "                      '2*3', '2.0 * 3', 'float(2) * 3']\n",
    "\n",
    "for expression, string_expression in zip(expressions, string_expressions):\n",
    "\n",
    "    print('\\n**********')\n",
    "    print(string_expression)\n",
    "    print('Value : {}'.format(expression))\n",
    "    print('Type : {}'.format(type(expression)))\n",
    "\n"
   ]
  },
  {
   "cell_type": "markdown",
   "metadata": {},
   "source": [
    "## II. Lists"
   ]
  },
  {
   "cell_type": "markdown",
   "metadata": {},
   "source": [
    "#### Exercise 2 : Lists"
   ]
  },
  {
   "cell_type": "code",
   "execution_count": 3,
   "metadata": {
    "id": "NVyuFtgMRBMD",
    "outputId": "d9bfad4c-89c2-4bf5-f2c0-3ed1306bdbf3"
   },
   "outputs": [
    {
     "name": "stdout",
     "output_type": "stream",
     "text": [
      "[0, 1, 2, 3, 4, 5, 6, 7, 8, 9]\n"
     ]
    }
   ],
   "source": [
    "my_list = []\n",
    "for i in range(10):\n",
    "    my_list.append(i)\n",
    "\n",
    "print(my_list)\n",
    "\n",
    "list2 = [0, 1, 2, 3, 4, 5, 6, 7, 8, 9] # By hand\n",
    "list3 = [i for i in range(10)] # List comprehension\n",
    "list4 = list(range(10)) # range\n"
   ]
  },
  {
   "cell_type": "markdown",
   "metadata": {},
   "source": [
    "#### Exercice 3 : Slicing"
   ]
  },
  {
   "cell_type": "code",
   "execution_count": 5,
   "metadata": {
    "id": "gJiCQD6cRBMF"
   },
   "outputs": [],
   "source": [
    "list1 = my_list[:3]\n",
    "list2 = my_list[-1:]\n",
    "list3 = [i for i in my_list if i % 2 == 0]\n",
    "list4 = my_list[::-1]\n",
    "list5 = my_list + my_list + my_list\n",
    "list6 = my_list[:3] + my_list[-4:]\n",
    "list8 = my_list[8:1:-2]"
   ]
  },
  {
   "cell_type": "markdown",
   "metadata": {},
   "source": [
    "#### Exercice 4 : List comprehension"
   ]
  },
  {
   "cell_type": "code",
   "execution_count": 6,
   "metadata": {
    "id": "J07iuUlYRBMF",
    "outputId": "a241da31-4616-48db-a123-96be1a3623cb"
   },
   "outputs": [
    {
     "name": "stdout",
     "output_type": "stream",
     "text": [
      "[[0, 0, 0, 0, 0, 0, 0, 0, 0, 0], [0, 1, 2, 3, 4, 5, 6, 7, 8, 9], [0, 2, 4, 6, 8, 10, 12, 14, 16, 18], [0, 3, 6, 9, 12, 15, 18, 21, 24, 27], [0, 4, 8, 12, 16, 20, 24, 28, 32, 36], [0, 5, 10, 15, 20, 25, 30, 35, 40, 45], [0, 6, 12, 18, 24, 30, 36, 42, 48, 54], [0, 7, 14, 21, 28, 35, 42, 49, 56, 63], [0, 8, 16, 24, 32, 40, 48, 56, 64, 72], [0, 9, 18, 27, 36, 45, 54, 63, 72, 81]]\n"
     ]
    }
   ],
   "source": [
    "list1 = [i**2 for i in range(100) if i % 2 == 0]\n",
    "list2 = [math.sqrt(i) for i in range(1000)]\n",
    "list3 = [(i, j) for i in range(10) for j in range(10)]\n",
    "#list4 = [math.factorial(i) for i in range(10)]\n",
    "list4 = [ [k*i for i in range(10)] for k in range(10)]\n",
    "print(list4)"
   ]
  },
  {
   "cell_type": "markdown",
   "metadata": {},
   "source": [
    "## III. For Loops"
   ]
  },
  {
   "cell_type": "markdown",
   "metadata": {},
   "source": [
    "#### Exercice 5 : For loop"
   ]
  },
  {
   "cell_type": "code",
   "execution_count": 7,
   "metadata": {
    "id": "U55iAEKRRBMG",
    "outputId": "d3860cf6-a083-4eeb-ee31-489836b6f51d"
   },
   "outputs": [
    {
     "name": "stdout",
     "output_type": "stream",
     "text": [
      "500500\n",
      "500500.0\n",
      "True\n"
     ]
    }
   ],
   "source": [
    "n = 1000 # You need to put a big value to n\n",
    "\n",
    "# 1 \n",
    "a = 0\n",
    "\n",
    "for i in range(n):\n",
    "    a += i + 1\n",
    "    \n",
    "expr = n*(n+1) / 2\n",
    "print(a)\n",
    "print(expr)\n",
    "\n",
    "print( a == expr) # Return True"
   ]
  },
  {
   "cell_type": "code",
   "execution_count": 8,
   "metadata": {
    "id": "EOK449mpRBMH",
    "outputId": "2d7de0fe-3295-4bae-e1a8-dd95127a07e7"
   },
   "outputs": [
    {
     "name": "stdout",
     "output_type": "stream",
     "text": [
      "333833500\n",
      "333833500.0\n",
      "True\n"
     ]
    }
   ],
   "source": [
    "#2\n",
    "a = 0\n",
    "\n",
    "for i in range(n):\n",
    "    a += (i+1)**2\n",
    "expr = n*(n+1)*(2*n+1)/6\n",
    "\n",
    "print(a)\n",
    "print(expr)\n",
    "print( a == expr) # Return True"
   ]
  },
  {
   "cell_type": "code",
   "execution_count": 9,
   "metadata": {
    "id": "FC11C7--RBMH",
    "outputId": "d0f9f569-8743-4e4d-9585-4963d1e63d10"
   },
   "outputs": [
    {
     "name": "stdout",
     "output_type": "stream",
     "text": [
      "1.6439345666815615\n",
      "1.6449340668482264\n",
      "False\n",
      "True\n"
     ]
    }
   ],
   "source": [
    "#3\n",
    "a = 0\n",
    "\n",
    "for i in range(n):\n",
    "    a += 1 / ((i+1) ** 2)\n",
    "\n",
    "expr = math.pi ** 2 / 6\n",
    "print(a)\n",
    "print(expr)\n",
    "print(a == expr) # Return False as the equality is not exact\n",
    "print(abs(a - expr) < 1e-3) # Return True"
   ]
  },
  {
   "cell_type": "code",
   "execution_count": 11,
   "metadata": {
    "id": "KFXL5HBARBMI",
    "outputId": "0e7da8f0-7b49-4b7f-fb5c-b67a18179bd3"
   },
   "outputs": [
    {
     "name": "stdout",
     "output_type": "stream",
     "text": [
      "0.6926474305598223\n",
      "0.6931471805599453\n",
      "False\n",
      "True\n"
     ]
    }
   ],
   "source": [
    "#4\n",
    "a = 0\n",
    "for i in range(n):\n",
    "    a += (-1)**i / (i+1)\n",
    "expr = math.log(2)\n",
    "print(a)\n",
    "print(expr)\n",
    "print(a == expr) # Return False as the equality is not exact\n",
    "print(abs(a - expr) < 1e-3) # Return True"
   ]
  },
  {
   "cell_type": "code",
   "execution_count": 10,
   "metadata": {
    "id": "I09qEAzJRBMJ",
    "outputId": "aa8f1e50-dea1-43df-eadd-9340e354fdb6"
   },
   "outputs": [
    {
     "name": "stdout",
     "output_type": "stream",
     "text": [
      "0.7851481634599485\n",
      "0.7853981633974483\n",
      "False\n",
      "True\n"
     ]
    }
   ],
   "source": [
    "#5\n",
    "a = 0\n",
    "for i in range(n):\n",
    "    a += (-1)**i / (2*i+1)\n",
    "expr = math.pi / 4\n",
    "print(a)\n",
    "print(expr)\n",
    "print(a == expr) # Return False as the equality is not exact\n",
    "print(abs(a - expr) < 1e-3) # Return True"
   ]
  },
  {
   "cell_type": "code",
   "execution_count": 12,
   "metadata": {
    "id": "GD9VdIF7RBMK",
    "outputId": "50d45d2a-f64a-4d5b-9d8f-27a3a3d45499"
   },
   "outputs": [
    {
     "name": "stdout",
     "output_type": "stream",
     "text": [
      "2.7182818284590455\n",
      "2.718281828459045\n",
      "False\n",
      "True\n"
     ]
    }
   ],
   "source": [
    "#6\n",
    "a = 0\n",
    "for i in range(n):\n",
    "    a += 1 / math.factorial(i)\n",
    "expr = math.exp(1)\n",
    "\n",
    "print(a)\n",
    "print(expr)\n",
    "print(a == expr) # Return False as the equality is not exact\n",
    "print(abs(a - expr) < 1e-3) # Return True"
   ]
  },
  {
   "cell_type": "code",
   "execution_count": 13,
   "metadata": {
    "id": "d0l48NQORBMK",
    "outputId": "83a73aa4-a10c-45d4-d934-4175c5e6242b"
   },
   "outputs": [
    {
     "name": "stdout",
     "output_type": "stream",
     "text": [
      "500500\n",
      "500500.0\n",
      "True\n",
      "True\n",
      "333833500\n",
      "333833500.0\n",
      "True\n",
      "True\n",
      "1.6439345666815615\n",
      "1.6449340668482264\n",
      "False\n",
      "True\n",
      "0.6926474305598223\n",
      "0.6931471805599453\n",
      "False\n",
      "True\n",
      "0.7851481634599485\n",
      "0.7853981633974483\n",
      "False\n",
      "True\n",
      "2.7182818284590455\n",
      "2.718281828459045\n",
      "False\n",
      "True\n"
     ]
    }
   ],
   "source": [
    "# An other solution to do the exercice with less code to write\n",
    "def f1(i):\n",
    "    return i + 1\n",
    "def f2(i):\n",
    "    return (i+1)**2\n",
    "def f3(i):\n",
    "    return 1 / ((i+1) ** 2)\n",
    "def f4(i):\n",
    "    return (-1)**(i) / (i+1)\n",
    "def f5(i):\n",
    "    return (-1)**i / (2*i+1)\n",
    "def f6(i):\n",
    "    return 1 / math.factorial(i)\n",
    "\n",
    "list_functions = [f1, f2, f3, f4, f5, f6]\n",
    "list_sum = [n*(n+1) / 2, n*(n+1)*(2*n+1)/6, math.pi ** 2 / 6, math.log(2), math.pi / 4, math.exp(1)]\n",
    "\n",
    "def sum_n(f, n):\n",
    "    # A function sum with f equal to a function\n",
    "    a = 0\n",
    "    for i in range(n):\n",
    "        a += f(i)\n",
    "    return a\n",
    "\n",
    "for f, expr in zip(list_functions, list_sum):\n",
    "    \n",
    "    a = sum_n(f, n)\n",
    "    print(a)\n",
    "    print(expr)\n",
    "    print(a == expr) # Return False as the equality is not exact\n",
    "    print(abs(a - expr) < 1e-3) # Return True"
   ]
  },
  {
   "cell_type": "markdown",
   "metadata": {},
   "source": [
    "#### Exercice 6"
   ]
  },
  {
   "cell_type": "code",
   "execution_count": 16,
   "metadata": {
    "id": "cl8xXeSGRBMM"
   },
   "outputs": [
    {
     "data": {
      "text/plain": [
       "6"
      ]
     },
     "execution_count": 16,
     "metadata": {},
     "output_type": "execute_result"
    }
   ],
   "source": [
    "def sum_list(a_list):\n",
    "    n = len(a_list)\n",
    "    a = 0\n",
    "\n",
    "    for i in range(n):\n",
    "        a += a_list[i]\n",
    "\n",
    "    return a\n",
    "\n",
    "my_list = [1, 2, 3]\n",
    "sum_list(my_list)"
   ]
  },
  {
   "cell_type": "code",
   "execution_count": 17,
   "metadata": {
    "id": "8jibqaXhRBMN",
    "outputId": "262aeb8f-9892-48bf-eb84-99492e9e31ce"
   },
   "outputs": [
    {
     "name": "stdout",
     "output_type": "stream",
     "text": [
      "[0, 1, 1, 2, 3, 5, 8, 13, 21, 34, 55, 89, 144, 233, 377, 610, 987, 1597, 2584, 4181, 6765, 10946, 17711, 28657, 46368, 75025, 121393, 196418, 317811, 514229, 832040, 1346269, 2178309, 3524578, 5702887, 9227465, 14930352, 24157817, 39088169, 63245986, 102334155, 165580141, 267914296, 433494437, 701408733, 1134903170, 1836311903, 2971215073, 4807526976, 7778742049, 12586269025, 20365011074, 32951280099, 53316291173, 86267571272, 139583862445, 225851433717, 365435296162, 591286729879, 956722026041, 1548008755920, 2504730781961, 4052739537881, 6557470319842, 10610209857723, 17167680177565, 27777890035288, 44945570212853, 72723460248141, 117669030460994, 190392490709135, 308061521170129, 498454011879264, 806515533049393, 1304969544928657, 2111485077978050, 3416454622906707, 5527939700884757, 8944394323791464, 14472334024676221, 23416728348467685, 37889062373143906, 61305790721611591, 99194853094755497, 160500643816367088, 259695496911122585, 420196140727489673, 679891637638612258, 1100087778366101931, 1779979416004714189, 2880067194370816120, 4660046610375530309, 7540113804746346429, 12200160415121876738, 19740274219868223167, 31940434634990099905, 51680708854858323072, 83621143489848422977, 135301852344706746049, 218922995834555169026]\n",
      "573147844013817084100\n"
     ]
    }
   ],
   "source": [
    "# Fibonacci\n",
    "list_fibo = [0, 1]\n",
    "for i in range(98):\n",
    "    list_fibo.append(list_fibo[-2] + list_fibo[-1])\n",
    "\n",
    "print(list_fibo)\n",
    "print(sum_list(list_fibo))\n",
    "\n",
    "#recursive way for later "
   ]
  },
  {
   "cell_type": "code",
   "execution_count": 18,
   "metadata": {
    "id": "xN3nH1TnRBMO",
    "outputId": "3bb9f011-4207-436c-dba1-a17f80882bb2"
   },
   "outputs": [
    {
     "name": "stdout",
     "output_type": "stream",
     "text": [
      "[0, 1, 3, 6, 10, 15, 21, 28, 36, 45, 55, 66, 78, 91, 105, 120, 136, 153, 171, 190, 210, 231, 253, 276, 300, 325, 351, 378, 406, 435, 465, 496, 528, 561, 595, 630, 666, 703, 741, 780, 820, 861, 903, 946, 990, 1035, 1081, 1128, 1176, 1225, 1275, 1326, 1378, 1431, 1485, 1540, 1596, 1653, 1711, 1770, 1830, 1891, 1953, 2016, 2080, 2145, 2211, 2278, 2346, 2415, 2485, 2556, 2628, 2701, 2775, 2850, 2926, 3003, 3081, 3160, 3240, 3321, 3403, 3486, 3570, 3655, 3741, 3828, 3916, 4005, 4095, 4186, 4278, 4371, 4465, 4560, 4656, 4753, 4851, 4950]\n",
      "166650\n"
     ]
    }
   ],
   "source": [
    "# Triangular\n",
    "list_triangular = [0]\n",
    "for i in range(1,100):\n",
    "    list_triangular.append(list_triangular[-1] + i)\n",
    "\n",
    "print(list_triangular)\n",
    "\n",
    "print(sum_list(list_triangular))"
   ]
  },
  {
   "cell_type": "markdown",
   "metadata": {},
   "source": [
    "\n",
    "\n",
    "#### Exercice 7"
   ]
  },
  {
   "cell_type": "code",
   "execution_count": 19,
   "metadata": {
    "id": "bl6XVOMURBMO",
    "outputId": "e12b9021-de7e-4d61-e8d8-e1dea11b425b"
   },
   "outputs": [
    {
     "name": "stdout",
     "output_type": "stream",
     "text": [
      "10539\n",
      "10539\n"
     ]
    }
   ],
   "source": [
    "num = math.factorial(1000)\n",
    "\n",
    "# First solution, we transform the int in a str with \"str\", then we made a loop on every digit of the string.\n",
    "# We need to convert the string back into int in order to sum them\n",
    "def sum_digits(n):\n",
    "    sum = 0\n",
    "    for s in str(num):\n",
    "        sum += int(s)\n",
    "    return sum\n",
    "\n",
    "# The second solution is more mathematical. \n",
    "# We calulcate the rest of the integer division of n by 10 and then divide n by 10. \n",
    "# The while loop will stop as we divide n by 10. \n",
    "    \n",
    "def sum_digits_v2(n):\n",
    "    s = 0\n",
    "    while n >0:\n",
    "        s += n % 10\n",
    "        n //= 10\n",
    "    return s\n",
    "\n",
    "\n",
    "print(sum_digits(num))\n",
    "print(sum_digits_v2(num))\n"
   ]
  },
  {
   "cell_type": "markdown",
   "metadata": {},
   "source": [
    "## IV. Conditional loop: If / While\n",
    "\n",
    "#### Exercice 8"
   ]
  },
  {
   "cell_type": "code",
   "execution_count": 20,
   "metadata": {
    "id": "BypHK-hCRBMP",
    "outputId": "feba52d6-3b12-4ea9-b0ec-3cb167df396c"
   },
   "outputs": [
    {
     "name": "stdout",
     "output_type": "stream",
     "text": [
      "a : 1 is bigger than b : 6\n",
      "b : 2 is bigger than a : 8\n",
      "a : 0 is equal to b : 0\n"
     ]
    }
   ],
   "source": [
    "\n",
    "def print_bigger(a, b):\n",
    "    \n",
    "    if a < b:\n",
    "        print('a : {} is bigger than b : {}'.format(a, b))\n",
    "    elif a == b:\n",
    "        print('a : {} is equal to b : {}'.format(a, b))\n",
    "    else:\n",
    "        print('b : {} is bigger than a : {}'.format(b, a))\n",
    "    # We don't return anything\n",
    "    \n",
    "print_bigger(1, 6)\n",
    "print_bigger(8, 2)\n",
    "print_bigger(0, 0)"
   ]
  },
  {
   "cell_type": "code",
   "execution_count": 21,
   "metadata": {
    "id": "yvoRkR4dRBMQ",
    "outputId": "d8e021db-7e8d-47d2-9f3a-98fad7825865"
   },
   "outputs": [
    {
     "name": "stdout",
     "output_type": "stream",
     "text": [
      "n : 12 is even\n",
      "n : 11 is odd\n"
     ]
    }
   ],
   "source": [
    "def print_even(n):\n",
    "    if n % 2 == 0:\n",
    "        print('n : {} is even'.format(n))\n",
    "    else:\n",
    "        print('n : {} is odd'.format(n))\n",
    "print_even(12)\n",
    "print_even(11)"
   ]
  },
  {
   "cell_type": "code",
   "execution_count": 22,
   "metadata": {
    "id": "FfDWWethRBMQ",
    "outputId": "29b8641b-94d1-488b-ed13-b9948c00389d"
   },
   "outputs": [
    {
     "name": "stdout",
     "output_type": "stream",
     "text": [
      "You failed the exam. Work more !\n",
      "You pass the exam. But I am sure you can do better.\n",
      "It is perfect. Congratulations !\n"
     ]
    }
   ],
   "source": [
    "def print_grades(grade):\n",
    "    \n",
    "    if grade < 0 or grade > 20:\n",
    "        print('The grade should be between 0 and 20')\n",
    "        return # We want to go out of the function\n",
    "    \n",
    "    if grade < 10:\n",
    "        print('You failed the exam. Work more !')\n",
    "    elif grade < 15:\n",
    "        print('You pass the exam. But I am sure you can do better.')\n",
    "    elif grade < 18:\n",
    "        print('You did good job. It is almost perfect !')\n",
    "    else:\n",
    "        print('It is perfect. Congratulations !')\n",
    "        \n",
    "print_grades(5)\n",
    "print_grades(12)\n",
    "print_grades(19)"
   ]
  },
  {
   "cell_type": "code",
   "execution_count": 23,
   "metadata": {
    "id": "AZhth6naRBMR",
    "outputId": "7f5a57eb-44df-4eb5-c177-f5d8cabff5b4"
   },
   "outputs": [
    {
     "name": "stdout",
     "output_type": "stream",
     "text": [
      "The polynom has two real roots : -3.732050807568877 and -0.2679491924311228\n",
      "The polynom has two real roots : -2.0 and 2.0\n",
      "The polynom has only one real roots : 0.0\n"
     ]
    },
    {
     "data": {
      "text/plain": [
       "0.0"
      ]
     },
     "execution_count": 23,
     "metadata": {},
     "output_type": "execute_result"
    }
   ],
   "source": [
    "def polynom_roots(a, b, c):\n",
    "    \n",
    "    delta = b**2 - 4*a*c\n",
    "    \n",
    "    if delta > 0:\n",
    "        x1 = (-b - math.sqrt(delta) ) / (2*a)\n",
    "        x2 = (-b + math.sqrt(delta) ) / (2*a)\n",
    "        \n",
    "        print('The polynom has two real roots : {} and {}'.format(x1, x2))\n",
    "        \n",
    "        return x1, x2\n",
    "    elif delta == 0:\n",
    "        x = (-b ) / (2*a)\n",
    "        print('The polynom has only one real roots : {}'.format(x))\n",
    "        return x\n",
    "    else:\n",
    "        print('The polynom have no real roots, only complex roots')\n",
    "        return None\n",
    "    \n",
    "polynom_roots(1, 4, 1)\n",
    "polynom_roots(1, 0, -4)\n",
    "polynom_roots(1, 0, 0)"
   ]
  },
  {
   "cell_type": "code",
   "execution_count": 24,
   "metadata": {
    "id": "WELGV42ARBMR",
    "outputId": "4c029ce3-315b-464a-d23f-8482fb351e29"
   },
   "outputs": [
    {
     "name": "stdout",
     "output_type": "stream",
     "text": [
      "The year 2000 is bissextile\n",
      "The year 2001 is not bissextile\n",
      "The year 2002 is not bissextile\n",
      "The year 2003 is not bissextile\n",
      "The year 2004 is bissextile\n",
      "The year 2005 is not bissextile\n",
      "The year 2006 is not bissextile\n",
      "The year 2007 is not bissextile\n",
      "The year 2008 is bissextile\n",
      "The year 2009 is not bissextile\n",
      "The year 2010 is not bissextile\n",
      "The year 2011 is not bissextile\n",
      "The year 2012 is bissextile\n",
      "The year 2013 is not bissextile\n",
      "The year 2014 is not bissextile\n",
      "The year 2015 is not bissextile\n",
      "The year 2016 is bissextile\n",
      "The year 2017 is not bissextile\n",
      "The year 2018 is not bissextile\n",
      "The year 2019 is not bissextile\n",
      "The year 2020 is bissextile\n"
     ]
    }
   ],
   "source": [
    "# Exercice 9 Bissextile year\n",
    "def bissextile(year):\n",
    "\n",
    "    if year < 1582:\n",
    "        return (year % 4) == 0\n",
    "    elif (year % 4) == 0 and not ((year % 100) == 0):\n",
    "        return True\n",
    "    elif (year % 400 == 0):\n",
    "        return True\n",
    "    else:\n",
    "        return False\n",
    "\n",
    "\n",
    "for year in range(2000, 2021):\n",
    "    if bissextile(year):\n",
    "        print('The year {} is bissextile'.format(year))\n",
    "    else:\n",
    "        print('The year {} is not bissextile'.format(year))\n",
    "\n",
    "\n",
    "def find_first_bissextile(year):\n",
    "    \n",
    "    find_year = year\n",
    "    while not bissextile(find_year):\n",
    "        find_year += 1\n",
    "    print('The first bissextile year after {} is : {}'.format(year, find_year))"
   ]
  },
  {
   "cell_type": "markdown",
   "metadata": {},
   "source": [
    "#### Exercise 10"
   ]
  },
  {
   "cell_type": "code",
   "execution_count": 25,
   "metadata": {
    "id": "jTsStWj3RBMS",
    "outputId": "14410d44-9163-40d2-9c63-8018f581e41c"
   },
   "outputs": [
    {
     "name": "stdout",
     "output_type": "stream",
     "text": [
      "0\n",
      "3\n",
      "6\n",
      "9\n",
      "12\n",
      "15\n",
      "18\n",
      "21\n",
      "24\n"
     ]
    }
   ],
   "source": [
    "i = 0\n",
    "\n",
    "while i < 25:\n",
    "    if (i % 3) == 0:\n",
    "        print(i)\n",
    "    i += 1"
   ]
  },
  {
   "cell_type": "code",
   "execution_count": 26,
   "metadata": {
    "id": "bBezHHqGRBMS",
    "outputId": "da01570b-cc02-4b0c-82f9-9eaed9d76640"
   },
   "outputs": [
    {
     "name": "stdout",
     "output_type": "stream",
     "text": [
      "0\n",
      "3\n",
      "6\n",
      "9\n",
      "12\n",
      "15\n",
      "18\n",
      "21\n",
      "24\n"
     ]
    }
   ],
   "source": [
    "for i in range(25):\n",
    "    if (i % 3) == 0:\n",
    "        print(i)"
   ]
  },
  {
   "cell_type": "code",
   "execution_count": 27,
   "metadata": {
    "id": "v7Sm-EeVRBMS",
    "outputId": "1fc34aa0-84a5-414f-ffd9-29e480c38d23"
   },
   "outputs": [
    {
     "name": "stdout",
     "output_type": "stream",
     "text": [
      "30\n",
      "990\n"
     ]
    }
   ],
   "source": [
    "def f(n):\n",
    "    return n**2 + 3*n\n",
    "\n",
    "n = 0\n",
    "while f(n+1) < 1000:\n",
    "    n += 1\n",
    "print(n)\n",
    "print(f(n))    "
   ]
  },
  {
   "cell_type": "code",
   "execution_count": 28,
   "metadata": {
    "id": "v9WP8DG_RBMT",
    "outputId": "aa6c6271-9a12-4208-fec7-ce7e567a0777"
   },
   "outputs": [
    {
     "name": "stdout",
     "output_type": "stream",
     "text": [
      "30\n",
      "990\n"
     ]
    }
   ],
   "source": [
    "# With a for loop we need to know where to stop\n",
    "# We know than n**2 + 3*n > n**2 > (n-1)**2 + 3(n-1), so we can stop at sqrt(1000) =\n",
    "max_ite = int(math.sqrt(1000)) + 1\n",
    "n = 0\n",
    "for i in range(max_ite):\n",
    "    if f(i) < 1000:\n",
    "        n = i\n",
    "print(n)\n",
    "print(f(n))\n",
    "\n",
    "#The for loop version is more complicated"
   ]
  },
  {
   "cell_type": "code",
   "execution_count": 29,
   "metadata": {
    "id": "ef4rca3uRBMU",
    "outputId": "8d6d49e0-94bb-434e-a2b3-1455e1a9b9a0"
   },
   "outputs": [
    {
     "name": "stdout",
     "output_type": "stream",
     "text": [
      "Value of the sum : 990\n",
      "Value of n : 45\n"
     ]
    }
   ],
   "source": [
    "a = 0\n",
    "n = 1\n",
    "while (a + n) < 1000:\n",
    "    a += n\n",
    "    n += 1\n",
    "\n",
    "print('Value of the sum : {}'.format(a))\n",
    "print('Value of n : {}'.format(n))\n",
    "    \n",
    "# "
   ]
  },
  {
   "cell_type": "code",
   "execution_count": 30,
   "metadata": {
    "id": "QGye2LkcRBMU",
    "outputId": "4f75857e-3b4c-452b-8cf6-f598b892e8a5"
   },
   "outputs": [
    {
     "name": "stdout",
     "output_type": "stream",
     "text": [
      "Year 1 Capital : 2045.0\n",
      "Year 2 Capital : 2091.0125\n",
      "Year 3 Capital : 2138.0602812499997\n",
      "Year 4 Capital : 2186.1666375781247\n",
      "Year 5 Capital : 2235.3553869236325\n",
      "Year 6 Capital : 2285.650883129414\n",
      "Year 7 Capital : 2337.0780279998257\n",
      "Year 8 Capital : 2389.662283629822\n",
      "Year 9 Capital : 2443.429685011493\n",
      "Year 10 Capital : 2498.4068529242513\n",
      "Year 11 Capital : 2554.621007115047\n",
      "Year 12 Capital : 2612.0999797751356\n",
      "Year 13 Capital : 2670.8722293200763\n",
      "Year 14 Capital : 2730.966854479778\n",
      "Year 15 Capital : 2792.4136087055726\n",
      "Year 16 Capital : 2855.242914901448\n",
      "Year 17 Capital : 2919.4858804867304\n",
      "Year 18 Capital : 2985.174312797682\n",
      "Year 19 Capital : 3052.34073483563\n",
      "In year 19 the capital will be equal to 3052.34073483563 and bigger than 3000\n",
      "Year 1 Capital : 2045.0\n",
      "Year 2 Capital : 2091.0125\n",
      "Year 3 Capital : 2138.0602812499997\n",
      "Year 4 Capital : 2186.1666375781247\n",
      "Year 5 Capital : 2235.3553869236325\n",
      "Year 6 Capital : 2285.650883129414\n",
      "Year 7 Capital : 2337.0780279998257\n",
      "Year 8 Capital : 2389.662283629822\n",
      "Year 9 Capital : 2443.429685011493\n",
      "Year 10 Capital : 2498.4068529242513\n",
      "Year 11 Capital : 2554.621007115047\n",
      "Year 12 Capital : 2612.0999797751356\n",
      "Year 13 Capital : 2670.8722293200763\n",
      "Year 14 Capital : 2730.966854479778\n",
      "Year 15 Capital : 2792.4136087055726\n",
      "Year 16 Capital : 2855.242914901448\n",
      "Year 17 Capital : 2919.4858804867304\n",
      "Year 18 Capital : 2985.174312797682\n",
      "Year 19 Capital : 3052.34073483563\n",
      "Year 20 Capital : 3121.0184013694316\n",
      "Year 21 Capital : 3191.241315400244\n",
      "Year 22 Capital : 3263.0442449967495\n",
      "Year 23 Capital : 3336.4627405091765\n",
      "Year 24 Capital : 3411.533152170633\n",
      "Year 25 Capital : 3488.292648094472\n",
      "Year 26 Capital : 3566.7792326765975\n",
      "Year 27 Capital : 3647.0317654118207\n",
      "Year 28 Capital : 3729.089980133587\n",
      "Year 29 Capital : 3812.9945046865923\n",
      "Year 30 Capital : 3898.7868810420405\n",
      "Year 31 Capital : 3986.5095858654863\n",
      "Year 32 Capital : 4076.2060515474595\n",
      "Year 33 Capital : 4167.9206877072775\n",
      "Year 34 Capital : 4261.698903180692\n",
      "Year 35 Capital : 4357.587128502257\n",
      "Year 36 Capital : 4455.632838893557\n",
      "Year 37 Capital : 4555.884577768662\n",
      "Year 38 Capital : 4658.391980768457\n",
      "Year 39 Capital : 4763.205800335747\n",
      "Year 40 Capital : 4870.377930843301\n",
      "Year 41 Capital : 4979.961434287276\n",
      "Year 42 Capital : 5092.010566558739\n",
      "Year 43 Capital : 5206.580804306311\n",
      "Year 44 Capital : 5323.728872403202\n",
      "Year 45 Capital : 5443.512772032274\n",
      "Year 46 Capital : 5565.991809403001\n",
      "Year 47 Capital : 5691.226625114568\n",
      "Year 48 Capital : 5819.279224179646\n",
      "Year 49 Capital : 5950.213006723688\n",
      "Year 50 Capital : 6084.09279937497\n",
      "Year 51 Capital : 6220.984887360907\n",
      "Year 52 Capital : 6360.957047326528\n",
      "Year 53 Capital : 6504.078580891374\n",
      "Year 54 Capital : 6650.42034896143\n",
      "Year 55 Capital : 6800.054806813062\n",
      "Year 56 Capital : 6953.0560399663555\n",
      "Year 57 Capital : 7109.499800865598\n",
      "Year 58 Capital : 7269.463546385075\n",
      "Year 59 Capital : 7433.026476178738\n",
      "Year 60 Capital : 7600.26957189276\n",
      "Year 61 Capital : 7771.275637260347\n",
      "Year 62 Capital : 7946.129339098705\n",
      "Year 63 Capital : 8124.917249228426\n",
      "Year 64 Capital : 8307.727887336066\n",
      "Year 65 Capital : 8494.651764801129\n",
      "Year 66 Capital : 8685.781429509154\n",
      "Year 67 Capital : 8881.21151167311\n",
      "Year 68 Capital : 9081.038770685755\n",
      "Year 69 Capital : 9285.362143026185\n",
      "Year 70 Capital : 9494.282791244274\n",
      "Year 71 Capital : 9707.90415404727\n",
      "Year 72 Capital : 9926.331997513333\n",
      "Year 73 Capital : 10149.674467457382\n",
      "In year 73 the capital will be equal to 10149.674467457382 and bigger than 10000\n"
     ]
    },
    {
     "data": {
      "text/plain": [
       "(10149.674467457382, 73)"
      ]
     },
     "execution_count": 30,
     "metadata": {},
     "output_type": "execute_result"
    }
   ],
   "source": [
    "initial_value = 2000\n",
    "interest_rate = 2.25 / 100\n",
    "\n",
    "def find_year(initial_value, interest_rate, maximum_value):\n",
    "    \n",
    "    current_value = initial_value\n",
    "    year = 0\n",
    "    while current_value < maximum_value:\n",
    "        \n",
    "        current_value += current_value*interest_rate\n",
    "        year += 1\n",
    "        print('Year {} Capital : {}'.format(year, current_value))\n",
    "    \n",
    "    print('In year {} the capital will be equal to {} and bigger than {}'.format(year, current_value, maximum_value))\n",
    "    return current_value, year\n",
    "\n",
    "find_year(initial_value, interest_rate, 3000)\n",
    "find_year(initial_value, interest_rate, 10000)"
   ]
  },
  {
   "cell_type": "markdown",
   "metadata": {},
   "source": [
    "## V. Dictionary\n",
    "\n",
    "#### Exercice 11"
   ]
  },
  {
   "cell_type": "code",
   "execution_count": 31,
   "metadata": {
    "id": "FApgI5orRBMU",
    "outputId": "6dd6d399-4035-4166-c4aa-339cbb021bbe"
   },
   "outputs": [
    {
     "name": "stdout",
     "output_type": "stream",
     "text": [
      "{'John': 10, 'Eleonor': 12, 'Angela': 18, 'Nicolas': 15}\n",
      "John\n",
      "Eleonor\n",
      "Angela\n",
      "Nicolas\n",
      "10\n",
      "12\n",
      "18\n",
      "15\n",
      "John : 10\n",
      "Eleonor : 12\n",
      "Angela : 18\n",
      "Nicolas : 15\n",
      "{'John': 10, 'Eleonor': 12, 'Angela': 13, 'Lea': 16}\n"
     ]
    }
   ],
   "source": [
    "scores = {'John': 10, 'Eleonor': 12, 'Angela': 18, 'Nicolas': 15}\n",
    "\n",
    "print(scores)\n",
    "\n",
    "# Print all the keys\n",
    "for key in scores.keys():\n",
    "    print('{}'.format(key))\n",
    "\n",
    "# Print all the values\n",
    "for value in scores.values():\n",
    "    print('{}'.format(value))\n",
    "\n",
    "# Print all the keys and values\n",
    "for key, value in scores.items():\n",
    "    print('{} : {}'.format(key, value)) \n",
    "    \n",
    "scores['Lea'] = 16 # New score\n",
    "scores['Angela'] = 13 # Modify one score\n",
    "del scores['Nicolas'] # Delete one score\n",
    "print(scores)"
   ]
  },
  {
   "cell_type": "code",
   "execution_count": 36,
   "metadata": {
    "id": "jWX8p16nRBMV",
    "outputId": "3729f747-b93d-4dc5-a1a4-04047b35b4bd"
   },
   "outputs": [
    {
     "name": "stdout",
     "output_type": "stream",
     "text": [
      "10\n",
      "Minimum value : 10 Minimum key : John\n",
      "Maximum value : 16 Maximum key : Lea\n"
     ]
    }
   ],
   "source": [
    "# Calculate the average score\n",
    "a = 0\n",
    "for value in scores.values():\n",
    "    a += value\n",
    "\n",
    "a /= len(scores.values())\n",
    "\n",
    "# Calculate the minimal score\n",
    "print(min(scores.values())) # Without a for loop\n",
    "\n",
    "minimum_value = 1e9\n",
    "maximum_value = -1e9\n",
    "\n",
    "# With a loop # both in the same loop\n",
    "for key, value in scores.items():\n",
    "    \n",
    "    if value < minimum_value:\n",
    "        minimum_value = value\n",
    "        minimum_key = key\n",
    "        \n",
    "    if value > maximum_value:\n",
    "        maximum_value = value\n",
    "        maximum_key = key\n",
    "        \n",
    "print('Minimum value : {} Minimum key : {}'.format(minimum_value, minimum_key))\n",
    "print('Maximum value : {} Maximum key : {}'.format(maximum_value, maximum_key))"
   ]
  },
  {
   "cell_type": "markdown",
   "metadata": {},
   "source": [
    "#### Exercice 12"
   ]
  },
  {
   "cell_type": "code",
   "execution_count": 37,
   "metadata": {
    "id": "khXedT4sRBMV",
    "outputId": "0e279619-cf5a-4593-b547-c0a65ef772d6"
   },
   "outputs": [
    {
     "name": "stdout",
     "output_type": "stream",
     "text": [
      "{'Sex': 'M', 'Size': 155, 'Age': 12, 'City': 'Paris'}\n",
      "{'Sex': 'F', 'Size': 122, 'Age': 8, 'City': 'Londres'}\n",
      "{'Sex': 'F', 'Size': 180, 'Age': 16, 'City': 'Berlin'}\n",
      "{'Sex': 'M', 'Size': 140, 'Age': 18, 'City': 'Londres'}\n",
      "{'Sex': 'F', 'Size': 165, 'Age': 10, 'City': 'Porto'}\n",
      "{'Sex': 'M', 'Size': 110, 'Age': 12, 'City': 'Rome'}\n",
      "{'Sex': 'M', 'Size': 170, 'Age': 15, 'City': 'Madrid'}\n",
      "Mean age : 13.0\n",
      "Mean size : 148.85714285714286\n"
     ]
    }
   ],
   "source": [
    "ID = {'John': {'Sex': 'M', 'Size': 155, 'Age': 12, 'City': 'Paris'},\n",
    "      'Eleonor': {'Sex': 'F', 'Size': 122, 'Age': 8, 'City': 'Londres'},\n",
    "      'Angela': {'Sex': 'F', 'Size': 180, 'Age': 16, 'City': 'Berlin'},\n",
    "      'Nicolas': {'Sex': 'M', 'Size': 140, 'Age': 18, 'City': 'Londres'},\n",
    "      'Lea': {'Sex': 'F', 'Size': 165, 'Age': 10, 'City': 'Porto'},\n",
    "      'Isidore': {'Sex': 'M', 'Size': 110, 'Age': 12, 'City': 'Rome'},\n",
    "      'Joaquim': {'Sex': 'M', 'Size': 170, 'Age': 15, 'City': 'Madrid'}}\n",
    "\n",
    "# Average size and age \n",
    "ages = 0\n",
    "sizes = 0\n",
    "for values in ID.values():\n",
    "    print(values)\n",
    "    if 'Age' in values.keys(): # test for Donald\n",
    "        ages += values['Age']\n",
    "    if 'Size' in values.keys(): # test\n",
    "        sizes += values['Size']\n",
    "        \n",
    "print('Mean age : {}'.format(ages / len(ID)))\n",
    "print('Mean size : {}'.format(sizes / len(ID)))"
   ]
  },
  {
   "cell_type": "code",
   "execution_count": 38,
   "metadata": {
    "id": "ox1-09WGRBMW",
    "outputId": "9392a3c1-ef30-45ad-d8d8-4d067c07dd28"
   },
   "outputs": [
    {
     "name": "stdout",
     "output_type": "stream",
     "text": [
      "Number boy : 4\n",
      "Number girl : 3\n"
     ]
    }
   ],
   "source": [
    "# Number of boy and girl\n",
    "nb_girl = 0\n",
    "nb_boy = 0\n",
    "\n",
    "for values in ID.values():\n",
    "    if values['Sex'] == 'F':\n",
    "        nb_girl += 1\n",
    "    elif values['Sex'] == 'M':\n",
    "        nb_boy += 1\n",
    "\n",
    "print('Number boy : {}'.format(nb_boy))\n",
    "print('Number girl : {}'.format(nb_girl))"
   ]
  },
  {
   "cell_type": "code",
   "execution_count": 39,
   "metadata": {
    "id": "9jB5KS8jRBMW",
    "outputId": "2f628806-9829-4e32-9119-37e25f72628c"
   },
   "outputs": [
    {
     "name": "stdout",
     "output_type": "stream",
     "text": [
      "** Boy **\n",
      "Mean age : 14.25\n",
      "Mean size : 143.75\n",
      "** Girl **\n",
      "Mean age : 11.333333333333334\n",
      "Mean size : 155.66666666666666\n"
     ]
    }
   ],
   "source": [
    "# Average size and age of boys and girls\n",
    "ages_f = 0\n",
    "sizes_f = 0\n",
    "ages_m = 0\n",
    "sizes_m = 0\n",
    "\n",
    "for values in ID.values():\n",
    "    if 'Age' in values.keys(): # Correction for Donald\n",
    "        if values['Sex'] == 'F':\n",
    "            ages_f += values['Age']\n",
    "        elif values['Sex'] == 'M':\n",
    "            ages_m += values['Age']\n",
    "    else:\n",
    "        print('The key Age is not in {}'.format(values))\n",
    "        \n",
    "    if 'Size' in values.keys(): # Correction for Donald\n",
    "        if values['Sex'] == 'F':\n",
    "            sizes_f += values['Size']\n",
    "        elif values['Sex'] == 'M':\n",
    "            sizes_m += values['Size']\n",
    "    else:\n",
    "        print('The key Size is not in {}'.format(values))\n",
    "        \n",
    "print('** Boy **')\n",
    "print('Mean age : {}'.format(ages_m / nb_boy))\n",
    "print('Mean size : {}'.format(sizes_m / nb_boy))\n",
    "\n",
    "print('** Girl **')\n",
    "print('Mean age : {}'.format(ages_f / nb_girl))\n",
    "print('Mean size : {}'.format(sizes_f / nb_girl))"
   ]
  },
  {
   "cell_type": "code",
   "execution_count": 40,
   "metadata": {
    "id": "8c78DTduRBMW",
    "outputId": "cfa1a9a9-ed56-43ce-eefa-84f34eef117b"
   },
   "outputs": [
    {
     "name": "stdout",
     "output_type": "stream",
     "text": [
      "['Paris', 'Londres', 'Berlin', 'Porto', 'Rome', 'Madrid']\n",
      "{'Berlin', 'Paris', 'Rome', 'Porto', 'Madrid', 'Londres'}\n",
      "{'Berlin', 'Paris', 'Rome', 'Porto', 'Madrid', 'Londres'}\n"
     ]
    }
   ],
   "source": [
    "# List of the unique city\n",
    "\n",
    "list_unique_City = []\n",
    "for values in ID.values():\n",
    "    if 'City' in values.keys():\n",
    "        if values['City']  not in list_unique_City:\n",
    "            list_unique_City.append(values['City'])\n",
    "    \n",
    "print(list_unique_City)\n",
    "print(set(list_unique_City))\n",
    "\n",
    "# faster with comprehension list \n",
    "print(set([x['City'] for x in ID.values() if 'City' in x]))"
   ]
  },
  {
   "cell_type": "code",
   "execution_count": 41,
   "metadata": {
    "id": "4TF-PFnkRBMW"
   },
   "outputs": [],
   "source": [
    "# In order to handle the new dictionnary, we need to have \"if 'Age' in value\" and if \"Size\" in value\n",
    "# to be sure that the key is inside the dictionnary\n",
    "ID['Donald'] = {'Sex':'M'} "
   ]
  },
  {
   "cell_type": "code",
   "execution_count": null,
   "metadata": {
    "collapsed": true,
    "id": "KYcIFdWRRBMX",
    "jupyter": {
     "outputs_hidden": true
    }
   },
   "outputs": [],
   "source": []
  }
 ],
 "metadata": {
  "colab": {
   "collapsed_sections": [],
   "provenance": []
  },
  "interpreter": {
   "hash": "49e771cc2d5782809fbf111dbec826815bbdee75cae3c6557096a6bb6eb38650"
  },
  "kernelspec": {
   "display_name": "Python 3 (ipykernel)",
   "language": "python",
   "name": "python3"
  },
  "language_info": {
   "codemirror_mode": {
    "name": "ipython",
    "version": 3
   },
   "file_extension": ".py",
   "mimetype": "text/x-python",
   "name": "python",
   "nbconvert_exporter": "python",
   "pygments_lexer": "ipython3",
   "version": "3.12.3"
  }
 },
 "nbformat": 4,
 "nbformat_minor": 4
}
